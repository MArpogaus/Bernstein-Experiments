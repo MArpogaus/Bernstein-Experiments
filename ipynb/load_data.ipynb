{
 "cells": [
  {
   "cell_type": "markdown",
   "metadata": {},
   "source": [
    "# Import libraries"
   ]
  },
  {
   "cell_type": "code",
   "execution_count": 1,
   "metadata": {},
   "outputs": [],
   "source": [
    "import os\n",
    "import pandas as pd\n",
    "import numpy as np"
   ]
  },
  {
   "cell_type": "code",
   "execution_count": 2,
   "metadata": {},
   "outputs": [],
   "source": [
    "import seaborn as sns\n",
    "import matplotlib\n",
    "import matplotlib.pyplot as plt\n",
    "\n",
    "sns.set(style=\"ticks\", context=\"paper\")"
   ]
  },
  {
   "cell_type": "code",
   "execution_count": 3,
   "metadata": {},
   "outputs": [],
   "source": [
    "from sklearn.preprocessing import MinMaxScaler\n",
    "from sklearn.compose import make_column_transformer"
   ]
  },
  {
   "cell_type": "code",
   "execution_count": 4,
   "metadata": {},
   "outputs": [],
   "source": [
    "from bernstein_paper.util.visualization import plot_patches"
   ]
  },
  {
   "cell_type": "markdown",
   "metadata": {},
   "source": [
    "# Function Definition"
   ]
  },
  {
   "cell_type": "code",
   "execution_count": 5,
   "metadata": {},
   "outputs": [],
   "source": [
    "import os\n",
    "\n",
    "from functools import partial\n",
    "\n",
    "from bernstein_paper.data.dataset import WindowedTimeSeriesDataSet\n",
    "from bernstein_paper.data.splitter import TimeSeriesSplit"
   ]
  },
  {
   "cell_type": "code",
   "execution_count": 6,
   "metadata": {},
   "outputs": [],
   "source": [
    "def load_data(data_path: str,\n",
    "              history_size,\n",
    "              prediction_size,\n",
    "              history_columns=['load', 'is_holiday', 'tempC'],\n",
    "              meta_columns=['is_holiday', 'tempC'],\n",
    "              prediction_columns=['load'],\n",
    "              splits=['validate', 'test'],\n",
    "              shift=None,\n",
    "              validation_split=None,\n",
    "              batch_size=32,\n",
    "              cycle_length=10,\n",
    "              shuffle_buffer_size=1000,\n",
    "              seed=42):\n",
    "    \"\"\"\n",
    "    Loads the preprocessed CER data and build the dataset.\n",
    "\n",
    "    :param      data_path:            The path to the folder containing the\n",
    "                                      train.csv and test.csv\n",
    "    :type       data_path:            str\n",
    "    :param      history_size:         The number of time steps of the historic\n",
    "                                      data a patch should contain\n",
    "    :type       history_size:         int\n",
    "    :param      prediction_size:      The number of time steps in the\n",
    "                                      prediction horizon a step should contain\n",
    "    :type       prediction_size:      int\n",
    "    :param      history_columns:     The historic columns\n",
    "    :type       history_columns:     Array\n",
    "    :param      meta_columns:         The column names to be used as horizon\n",
    "                                      data.\n",
    "    :type       meta_columns:         Array\n",
    "    :param      prediction_columns:   The columns to predict\n",
    "    :type       prediction_columns:   Array\n",
    "    :param      splits:               The data splits to be generated. At least\n",
    "                                      one of 'train', 'validate' or 'test'\n",
    "    :type       splits:               Array\n",
    "    :param      shift:                The amount of time steps by which the\n",
    "                                      window moves on each iteration\n",
    "    :type       shift:                int\n",
    "    :param      validation_split:     The amount of data reserved from the\n",
    "                                      training set for validation\n",
    "    :type       validation_split:     float\n",
    "    :param      batch_size:           The batch size\n",
    "    :type       batch_size:           int\n",
    "    :param      cycle_length:         The number of input elements that are\n",
    "                                      processed concurrently\n",
    "    :type       cycle_length:         int\n",
    "    :param      shuffle_buffer_size:  The shuffle buffer size\n",
    "    :type       shuffle_buffer_size:  int\n",
    "    :param      seed:                 The seed used by the pseudo random\n",
    "                                      generators\n",
    "    :type       seed:                 int\n",
    "\n",
    "    :returns:   A dict containing the windowed TensorFlow datasets generated\n",
    "                from csv file in `data_path` for the given `spits`.\n",
    "    :rtype:     dict\n",
    "    \"\"\"\n",
    "\n",
    "    # common ##################################################################\n",
    "    data = {}\n",
    "\n",
    "    make_dataset = partial(WindowedTimeSeriesDataSet,\n",
    "                           history_size=history_size,\n",
    "                           prediction_size=prediction_size,\n",
    "                           history_columns=history_columns,\n",
    "                           meta_columns=meta_columns,\n",
    "                           prediction_columns=prediction_columns,\n",
    "                           shift=shift,\n",
    "                           batch_size=32,\n",
    "                           cycle_length=cycle_length,\n",
    "                           shuffle_buffer_size=shuffle_buffer_size,\n",
    "                           seed=seed)\n",
    "\n",
    "    # train data ##############################################################\n",
    "    if validation_split is not None:\n",
    "        data_splitter = TimeSeriesSplit(\n",
    "            1 - validation_split, TimeSeriesSplit.LEFT)\n",
    "    else:\n",
    "        data_splitter = None\n",
    "    train_data_path = os.path.join(data_path, 'train.csv')\n",
    "\n",
    "    train_ds_builder = make_dataset(\n",
    "        file_path=train_data_path,\n",
    "        data_splitter=data_splitter)\n",
    "    data['train'] = train_ds_builder()\n",
    "\n",
    "    # validation data #########################################################\n",
    "    if 'validate' in splits and validation_split is not None:\n",
    "        data_splitter = TimeSeriesSplit(\n",
    "            validation_split, TimeSeriesSplit.RIGHT)\n",
    "\n",
    "        data['validate'] = make_dataset(\n",
    "            file_path=train_data_path,\n",
    "            data_splitter=data_splitter,\n",
    "            column_transformer=train_ds_builder.column_transformer)()\n",
    "\n",
    "    # test data ###############################################################\n",
    "    if 'test' in splits:\n",
    "        test_data_path = os.path.join(data_path, 'test.csv')\n",
    "        data['test'] = make_dataset(\n",
    "            file_path=test_data_path,\n",
    "            column_transformer=train_ds_builder.column_transformer)()\n",
    "\n",
    "    return data\n"
   ]
  },
  {
   "cell_type": "markdown",
   "metadata": {},
   "source": [
    "# Load Dataset"
   ]
  },
  {
   "cell_type": "code",
   "execution_count": 7,
   "metadata": {},
   "outputs": [],
   "source": [
    "data_path=\"../../data/CER Electricity Revised March 2012/preprocessed/mini/\""
   ]
  },
  {
   "cell_type": "code",
   "execution_count": 8,
   "metadata": {},
   "outputs": [],
   "source": [
    "test_csv=pd.read_csv(\n",
    "    os.path.join(data_path,'test.csv'),\n",
    "    parse_dates=['date_time'],\n",
    "    infer_datetime_format=True,\n",
    "    index_col=['date_time'],\n",
    "    dtype={'id': 'uint16',\n",
    "           'load': 'float32',\n",
    "           'is_holiday': 'uint8',\n",
    "           'weekday': 'uint8'})"
   ]
  },
  {
   "cell_type": "code",
   "execution_count": 9,
   "metadata": {},
   "outputs": [],
   "source": [
    "#ref.: https://www.kaggle.com/avanwyk/encoding-cyclical-features-for-deep-learning\n",
    "def encode(data, cycl_name, cycl = None):\n",
    "    if cycl is None:\n",
    "        cycl = getattr(data.index, cycl_name)\n",
    "    cycl_max = cycl.max()\n",
    "    data[cycl_name + '_sin'] = np.float32(np.sin(2 * np.pi * cycl/cycl_max))\n",
    "    data[cycl_name + '_cos'] = np.float32(np.cos(2 * np.pi * cycl/cycl_max))\n",
    "    return data"
   ]
  },
  {
   "cell_type": "code",
   "execution_count": 10,
   "metadata": {},
   "outputs": [],
   "source": [
    "test_csv = encode(test_csv, 'dayofyear')\n",
    "test_csv = encode(test_csv, 'weekday')\n",
    "test_csv = encode(test_csv, 'time', test_csv.index.hour*60+test_csv.index.minute)"
   ]
  },
  {
   "cell_type": "code",
   "execution_count": 11,
   "metadata": {},
   "outputs": [
    {
     "data": {
      "text/plain": [
       "(id                uint16\n",
       " load             float32\n",
       " is_holiday         uint8\n",
       " weekday            uint8\n",
       " dayofyear_sin    float32\n",
       " dayofyear_cos    float32\n",
       " weekday_sin      float32\n",
       " weekday_cos      float32\n",
       " time_sin         float32\n",
       " time_cos         float32\n",
       " dtype: object,\n",
       " (1062864, 10))"
      ]
     },
     "execution_count": 11,
     "metadata": {},
     "output_type": "execute_result"
    }
   ],
   "source": [
    "test_csv.dtypes,test_csv.shape"
   ]
  },
  {
   "cell_type": "code",
   "execution_count": 12,
   "metadata": {},
   "outputs": [
    {
     "data": {
      "text/html": [
       "<div>\n",
       "<style scoped>\n",
       "    .dataframe tbody tr th:only-of-type {\n",
       "        vertical-align: middle;\n",
       "    }\n",
       "\n",
       "    .dataframe tbody tr th {\n",
       "        vertical-align: top;\n",
       "    }\n",
       "\n",
       "    .dataframe thead th {\n",
       "        text-align: right;\n",
       "    }\n",
       "</style>\n",
       "<table border=\"1\" class=\"dataframe\">\n",
       "  <thead>\n",
       "    <tr style=\"text-align: right;\">\n",
       "      <th></th>\n",
       "      <th>id</th>\n",
       "      <th>load</th>\n",
       "      <th>is_holiday</th>\n",
       "      <th>weekday</th>\n",
       "      <th>dayofyear_sin</th>\n",
       "      <th>dayofyear_cos</th>\n",
       "      <th>weekday_sin</th>\n",
       "      <th>weekday_cos</th>\n",
       "      <th>time_sin</th>\n",
       "      <th>time_cos</th>\n",
       "    </tr>\n",
       "    <tr>\n",
       "      <th>date_time</th>\n",
       "      <th></th>\n",
       "      <th></th>\n",
       "      <th></th>\n",
       "      <th></th>\n",
       "      <th></th>\n",
       "      <th></th>\n",
       "      <th></th>\n",
       "      <th></th>\n",
       "      <th></th>\n",
       "      <th></th>\n",
       "    </tr>\n",
       "  </thead>\n",
       "  <tbody>\n",
       "    <tr>\n",
       "      <th>2010-11-01 00:00:00</th>\n",
       "      <td>1035</td>\n",
       "      <td>19.171</td>\n",
       "      <td>0</td>\n",
       "      <td>0</td>\n",
       "      <td>-0.858764</td>\n",
       "      <td>0.512371</td>\n",
       "      <td>0.0</td>\n",
       "      <td>1.0</td>\n",
       "      <td>0.000000</td>\n",
       "      <td>1.000000</td>\n",
       "    </tr>\n",
       "    <tr>\n",
       "      <th>2010-11-01 00:30:00</th>\n",
       "      <td>1035</td>\n",
       "      <td>15.843</td>\n",
       "      <td>0</td>\n",
       "      <td>0</td>\n",
       "      <td>-0.858764</td>\n",
       "      <td>0.512371</td>\n",
       "      <td>0.0</td>\n",
       "      <td>1.0</td>\n",
       "      <td>0.133287</td>\n",
       "      <td>0.991077</td>\n",
       "    </tr>\n",
       "    <tr>\n",
       "      <th>2010-11-01 01:00:00</th>\n",
       "      <td>1035</td>\n",
       "      <td>6.561</td>\n",
       "      <td>0</td>\n",
       "      <td>0</td>\n",
       "      <td>-0.858764</td>\n",
       "      <td>0.512371</td>\n",
       "      <td>0.0</td>\n",
       "      <td>1.0</td>\n",
       "      <td>0.264195</td>\n",
       "      <td>0.964469</td>\n",
       "    </tr>\n",
       "    <tr>\n",
       "      <th>2010-11-01 01:30:00</th>\n",
       "      <td>1035</td>\n",
       "      <td>5.640</td>\n",
       "      <td>0</td>\n",
       "      <td>0</td>\n",
       "      <td>-0.858764</td>\n",
       "      <td>0.512371</td>\n",
       "      <td>0.0</td>\n",
       "      <td>1.0</td>\n",
       "      <td>0.390389</td>\n",
       "      <td>0.920650</td>\n",
       "    </tr>\n",
       "    <tr>\n",
       "      <th>2010-11-01 02:00:00</th>\n",
       "      <td>1035</td>\n",
       "      <td>6.238</td>\n",
       "      <td>0</td>\n",
       "      <td>0</td>\n",
       "      <td>-0.858764</td>\n",
       "      <td>0.512371</td>\n",
       "      <td>0.0</td>\n",
       "      <td>1.0</td>\n",
       "      <td>0.509617</td>\n",
       "      <td>0.860402</td>\n",
       "    </tr>\n",
       "  </tbody>\n",
       "</table>\n",
       "</div>"
      ],
      "text/plain": [
       "                       id    load  is_holiday  weekday  dayofyear_sin  \\\n",
       "date_time                                                               \n",
       "2010-11-01 00:00:00  1035  19.171           0        0      -0.858764   \n",
       "2010-11-01 00:30:00  1035  15.843           0        0      -0.858764   \n",
       "2010-11-01 01:00:00  1035   6.561           0        0      -0.858764   \n",
       "2010-11-01 01:30:00  1035   5.640           0        0      -0.858764   \n",
       "2010-11-01 02:00:00  1035   6.238           0        0      -0.858764   \n",
       "\n",
       "                     dayofyear_cos  weekday_sin  weekday_cos  time_sin  \\\n",
       "date_time                                                                \n",
       "2010-11-01 00:00:00       0.512371          0.0          1.0  0.000000   \n",
       "2010-11-01 00:30:00       0.512371          0.0          1.0  0.133287   \n",
       "2010-11-01 01:00:00       0.512371          0.0          1.0  0.264195   \n",
       "2010-11-01 01:30:00       0.512371          0.0          1.0  0.390389   \n",
       "2010-11-01 02:00:00       0.512371          0.0          1.0  0.509617   \n",
       "\n",
       "                     time_cos  \n",
       "date_time                      \n",
       "2010-11-01 00:00:00  1.000000  \n",
       "2010-11-01 00:30:00  0.991077  \n",
       "2010-11-01 01:00:00  0.964469  \n",
       "2010-11-01 01:30:00  0.920650  \n",
       "2010-11-01 02:00:00  0.860402  "
      ]
     },
     "execution_count": 12,
     "metadata": {},
     "output_type": "execute_result"
    }
   ],
   "source": [
    "test_csv.head()"
   ]
  },
  {
   "cell_type": "code",
   "execution_count": 13,
   "metadata": {},
   "outputs": [
    {
     "data": {
      "text/plain": [
       "Index(['id', 'load', 'is_holiday', 'weekday', 'dayofyear_sin', 'dayofyear_cos',\n",
       "       'weekday_sin', 'weekday_cos', 'time_sin', 'time_cos'],\n",
       "      dtype='object')"
      ]
     },
     "execution_count": 13,
     "metadata": {},
     "output_type": "execute_result"
    }
   ],
   "source": [
    "test_csv.columns"
   ]
  },
  {
   "cell_type": "code",
   "execution_count": 14,
   "metadata": {},
   "outputs": [
    {
     "name": "stderr",
     "output_type": "stream",
     "text": [
      "*c* argument looks like a single numeric RGB or RGBA sequence, which should be avoided as value-mapping will have precedence in case its length matches with *x* & *y*.  Please use the *color* keyword-argument or provide a 2-D array with a single row if you intend to specify the same RGB or RGBA value for all points.\n"
     ]
    },
    {
     "data": {
      "image/png": "[encoded data removed]",
      "text/plain": [
       "<Figure size 432x288 with 1 Axes>"
      ]
     },
     "metadata": {},
     "output_type": "display_data"
    }
   ],
   "source": [
    "test_csv.head(48).plot.scatter('time_cos', 'time_sin').set_aspect('equal')"
   ]
  },
  {
   "cell_type": "code",
   "execution_count": 15,
   "metadata": {},
   "outputs": [
    {
     "name": "stderr",
     "output_type": "stream",
     "text": [
      "*c* argument looks like a single numeric RGB or RGBA sequence, which should be avoided as value-mapping will have precedence in case its length matches with *x* & *y*.  Please use the *color* keyword-argument or provide a 2-D array with a single row if you intend to specify the same RGB or RGBA value for all points.\n"
     ]
    },
    {
     "data": {
      "image/png": "[encoded data removed]",
      "text/plain": [
       "<Figure size 432x288 with 1 Axes>"
      ]
     },
     "metadata": {},
     "output_type": "display_data"
    }
   ],
   "source": [
    "test_csv[test_csv.id==1035].head(48*365//2).plot.scatter('dayofyear_cos', 'dayofyear_sin').set_aspect('equal')"
   ]
  },
  {
   "cell_type": "code",
   "execution_count": 16,
   "metadata": {},
   "outputs": [
    {
     "data": {
      "text/plain": [
       "Int64Index([   0,   30,   60,   90,  120,  150,  180,  210,  240,  270,\n",
       "            ...\n",
       "            1140, 1170, 1200, 1230, 1260, 1290, 1320, 1350, 1380, 1410],\n",
       "           dtype='int64', name='date_time', length=1062864)"
      ]
     },
     "execution_count": 16,
     "metadata": {},
     "output_type": "execute_result"
    }
   ],
   "source": [
    "test_csv.index.hour*60+test_csv.index.minute"
   ]
  },
  {
   "cell_type": "code",
   "execution_count": 17,
   "metadata": {},
   "outputs": [
    {
     "data": {
      "text/html": [
       "<div>\n",
       "<style scoped>\n",
       "    .dataframe tbody tr th:only-of-type {\n",
       "        vertical-align: middle;\n",
       "    }\n",
       "\n",
       "    .dataframe tbody tr th {\n",
       "        vertical-align: top;\n",
       "    }\n",
       "\n",
       "    .dataframe thead th {\n",
       "        text-align: right;\n",
       "    }\n",
       "</style>\n",
       "<table border=\"1\" class=\"dataframe\">\n",
       "  <thead>\n",
       "    <tr style=\"text-align: right;\">\n",
       "      <th></th>\n",
       "      <th>id</th>\n",
       "      <th>load</th>\n",
       "      <th>is_holiday</th>\n",
       "      <th>weekday</th>\n",
       "      <th>dayofyear_sin</th>\n",
       "      <th>dayofyear_cos</th>\n",
       "      <th>weekday_sin</th>\n",
       "      <th>weekday_cos</th>\n",
       "      <th>time_sin</th>\n",
       "      <th>time_cos</th>\n",
       "    </tr>\n",
       "    <tr>\n",
       "      <th>date_time</th>\n",
       "      <th></th>\n",
       "      <th></th>\n",
       "      <th></th>\n",
       "      <th></th>\n",
       "      <th></th>\n",
       "      <th></th>\n",
       "      <th></th>\n",
       "      <th></th>\n",
       "      <th></th>\n",
       "      <th></th>\n",
       "    </tr>\n",
       "  </thead>\n",
       "  <tbody>\n",
       "    <tr>\n",
       "      <th>2010-11-01 00:00:00</th>\n",
       "      <td>1035</td>\n",
       "      <td>19.171</td>\n",
       "      <td>0</td>\n",
       "      <td>0</td>\n",
       "      <td>-8.587639e-01</td>\n",
       "      <td>0.512371</td>\n",
       "      <td>0.000000</td>\n",
       "      <td>1.0</td>\n",
       "      <td>0.000000e+00</td>\n",
       "      <td>1.000000</td>\n",
       "    </tr>\n",
       "    <tr>\n",
       "      <th>2010-11-01 00:30:00</th>\n",
       "      <td>1035</td>\n",
       "      <td>15.843</td>\n",
       "      <td>0</td>\n",
       "      <td>0</td>\n",
       "      <td>-8.587639e-01</td>\n",
       "      <td>0.512371</td>\n",
       "      <td>0.000000</td>\n",
       "      <td>1.0</td>\n",
       "      <td>1.332870e-01</td>\n",
       "      <td>0.991077</td>\n",
       "    </tr>\n",
       "    <tr>\n",
       "      <th>2010-11-01 01:00:00</th>\n",
       "      <td>1035</td>\n",
       "      <td>6.561</td>\n",
       "      <td>0</td>\n",
       "      <td>0</td>\n",
       "      <td>-8.587639e-01</td>\n",
       "      <td>0.512371</td>\n",
       "      <td>0.000000</td>\n",
       "      <td>1.0</td>\n",
       "      <td>2.641954e-01</td>\n",
       "      <td>0.964469</td>\n",
       "    </tr>\n",
       "    <tr>\n",
       "      <th>2010-11-01 01:30:00</th>\n",
       "      <td>1035</td>\n",
       "      <td>5.640</td>\n",
       "      <td>0</td>\n",
       "      <td>0</td>\n",
       "      <td>-8.587639e-01</td>\n",
       "      <td>0.512371</td>\n",
       "      <td>0.000000</td>\n",
       "      <td>1.0</td>\n",
       "      <td>3.903893e-01</td>\n",
       "      <td>0.920650</td>\n",
       "    </tr>\n",
       "    <tr>\n",
       "      <th>2010-11-01 02:00:00</th>\n",
       "      <td>1035</td>\n",
       "      <td>6.238</td>\n",
       "      <td>0</td>\n",
       "      <td>0</td>\n",
       "      <td>-8.587639e-01</td>\n",
       "      <td>0.512371</td>\n",
       "      <td>0.000000</td>\n",
       "      <td>1.0</td>\n",
       "      <td>5.096166e-01</td>\n",
       "      <td>0.860402</td>\n",
       "    </tr>\n",
       "    <tr>\n",
       "      <th>...</th>\n",
       "      <td>...</td>\n",
       "      <td>...</td>\n",
       "      <td>...</td>\n",
       "      <td>...</td>\n",
       "      <td>...</td>\n",
       "      <td>...</td>\n",
       "      <td>...</td>\n",
       "      <td>...</td>\n",
       "      <td>...</td>\n",
       "      <td>...</td>\n",
       "    </tr>\n",
       "    <tr>\n",
       "      <th>2010-12-31 21:30:00</th>\n",
       "      <td>7436</td>\n",
       "      <td>0.605</td>\n",
       "      <td>0</td>\n",
       "      <td>4</td>\n",
       "      <td>6.432490e-16</td>\n",
       "      <td>1.000000</td>\n",
       "      <td>-0.866025</td>\n",
       "      <td>-0.5</td>\n",
       "      <td>-5.096166e-01</td>\n",
       "      <td>0.860402</td>\n",
       "    </tr>\n",
       "    <tr>\n",
       "      <th>2010-12-31 22:00:00</th>\n",
       "      <td>7436</td>\n",
       "      <td>0.516</td>\n",
       "      <td>0</td>\n",
       "      <td>4</td>\n",
       "      <td>6.432490e-16</td>\n",
       "      <td>1.000000</td>\n",
       "      <td>-0.866025</td>\n",
       "      <td>-0.5</td>\n",
       "      <td>-3.903893e-01</td>\n",
       "      <td>0.920650</td>\n",
       "    </tr>\n",
       "    <tr>\n",
       "      <th>2010-12-31 22:30:00</th>\n",
       "      <td>7436</td>\n",
       "      <td>0.383</td>\n",
       "      <td>0</td>\n",
       "      <td>4</td>\n",
       "      <td>6.432490e-16</td>\n",
       "      <td>1.000000</td>\n",
       "      <td>-0.866025</td>\n",
       "      <td>-0.5</td>\n",
       "      <td>-2.641954e-01</td>\n",
       "      <td>0.964469</td>\n",
       "    </tr>\n",
       "    <tr>\n",
       "      <th>2010-12-31 23:00:00</th>\n",
       "      <td>7436</td>\n",
       "      <td>0.404</td>\n",
       "      <td>0</td>\n",
       "      <td>4</td>\n",
       "      <td>6.432490e-16</td>\n",
       "      <td>1.000000</td>\n",
       "      <td>-0.866025</td>\n",
       "      <td>-0.5</td>\n",
       "      <td>-1.332870e-01</td>\n",
       "      <td>0.991077</td>\n",
       "    </tr>\n",
       "    <tr>\n",
       "      <th>2010-12-31 23:30:00</th>\n",
       "      <td>7436</td>\n",
       "      <td>0.359</td>\n",
       "      <td>0</td>\n",
       "      <td>4</td>\n",
       "      <td>6.432490e-16</td>\n",
       "      <td>1.000000</td>\n",
       "      <td>-0.866025</td>\n",
       "      <td>-0.5</td>\n",
       "      <td>-2.449294e-16</td>\n",
       "      <td>1.000000</td>\n",
       "    </tr>\n",
       "  </tbody>\n",
       "</table>\n",
       "<p>1062864 rows × 10 columns</p>\n",
       "</div>"
      ],
      "text/plain": [
       "                       id    load  is_holiday  weekday  dayofyear_sin  \\\n",
       "date_time                                                               \n",
       "2010-11-01 00:00:00  1035  19.171           0        0  -8.587639e-01   \n",
       "2010-11-01 00:30:00  1035  15.843           0        0  -8.587639e-01   \n",
       "2010-11-01 01:00:00  1035   6.561           0        0  -8.587639e-01   \n",
       "2010-11-01 01:30:00  1035   5.640           0        0  -8.587639e-01   \n",
       "2010-11-01 02:00:00  1035   6.238           0        0  -8.587639e-01   \n",
       "...                   ...     ...         ...      ...            ...   \n",
       "2010-12-31 21:30:00  7436   0.605           0        4   6.432490e-16   \n",
       "2010-12-31 22:00:00  7436   0.516           0        4   6.432490e-16   \n",
       "2010-12-31 22:30:00  7436   0.383           0        4   6.432490e-16   \n",
       "2010-12-31 23:00:00  7436   0.404           0        4   6.432490e-16   \n",
       "2010-12-31 23:30:00  7436   0.359           0        4   6.432490e-16   \n",
       "\n",
       "                     dayofyear_cos  weekday_sin  weekday_cos      time_sin  \\\n",
       "date_time                                                                    \n",
       "2010-11-01 00:00:00       0.512371     0.000000          1.0  0.000000e+00   \n",
       "2010-11-01 00:30:00       0.512371     0.000000          1.0  1.332870e-01   \n",
       "2010-11-01 01:00:00       0.512371     0.000000          1.0  2.641954e-01   \n",
       "2010-11-01 01:30:00       0.512371     0.000000          1.0  3.903893e-01   \n",
       "2010-11-01 02:00:00       0.512371     0.000000          1.0  5.096166e-01   \n",
       "...                            ...          ...          ...           ...   \n",
       "2010-12-31 21:30:00       1.000000    -0.866025         -0.5 -5.096166e-01   \n",
       "2010-12-31 22:00:00       1.000000    -0.866025         -0.5 -3.903893e-01   \n",
       "2010-12-31 22:30:00       1.000000    -0.866025         -0.5 -2.641954e-01   \n",
       "2010-12-31 23:00:00       1.000000    -0.866025         -0.5 -1.332870e-01   \n",
       "2010-12-31 23:30:00       1.000000    -0.866025         -0.5 -2.449294e-16   \n",
       "\n",
       "                     time_cos  \n",
       "date_time                      \n",
       "2010-11-01 00:00:00  1.000000  \n",
       "2010-11-01 00:30:00  0.991077  \n",
       "2010-11-01 01:00:00  0.964469  \n",
       "2010-11-01 01:30:00  0.920650  \n",
       "2010-11-01 02:00:00  0.860402  \n",
       "...                       ...  \n",
       "2010-12-31 21:30:00  0.860402  \n",
       "2010-12-31 22:00:00  0.920650  \n",
       "2010-12-31 22:30:00  0.964469  \n",
       "2010-12-31 23:00:00  0.991077  \n",
       "2010-12-31 23:30:00  1.000000  \n",
       "\n",
       "[1062864 rows x 10 columns]"
      ]
     },
     "execution_count": 17,
     "metadata": {},
     "output_type": "execute_result"
    }
   ],
   "source": [
    "test_csv"
   ]
  },
  {
   "cell_type": "code",
   "execution_count": 18,
   "metadata": {},
   "outputs": [
    {
     "data": {
      "text/plain": [
       "ColumnTransformer(transformers=[('passthrough-1', 'passthrough',\n",
       "                                 ['dayofyear_cos']),\n",
       "                                ('passthrough-2', 'passthrough',\n",
       "                                 ['dayofyear_sin']),\n",
       "                                ('minmaxscaler-1', MinMaxScaler(),\n",
       "                                 ['is_holiday']),\n",
       "                                ('minmaxscaler-2', MinMaxScaler(), ['load']),\n",
       "                                ('passthrough-3', 'passthrough', ['time_cos']),\n",
       "                                ('passthrough-4', 'passthrough', ['time_sin']),\n",
       "                                ('passthrough-5', 'passthrough',\n",
       "                                 ['weekday_cos']),\n",
       "                                ('passthrough-6', 'passthrough',\n",
       "                                 ['weekday_sin'])])"
      ]
     },
     "execution_count": 18,
     "metadata": {},
     "output_type": "execute_result"
    }
   ],
   "source": [
    "scalers = {\n",
    "    'load': MinMaxScaler(feature_range=(0, 1)),\n",
    "    #'tempC': MinMaxScaler(feature_range=(-1, 1)),\n",
    "    'is_holiday': MinMaxScaler(feature_range=(0, 1))\n",
    "}\n",
    "\n",
    "for c in test_csv.columns:\n",
    "    if 'cos' in c or 'sin' in c:\n",
    "        scalers[c] = 'passthrough'\n",
    "\n",
    "column_transformer = make_column_transformer(\n",
    "    *[(scalers[k], [k]) for k in sorted(scalers.keys())],\n",
    ")\n",
    "column_transformer"
   ]
  },
  {
   "cell_type": "code",
   "execution_count": 19,
   "metadata": {},
   "outputs": [
    {
     "data": {
      "text/plain": [
       "(2928, 8)"
      ]
     },
     "execution_count": 19,
     "metadata": {},
     "output_type": "execute_result"
    }
   ],
   "source": [
    "trafo=column_transformer.fit_transform(test_csv[test_csv.id==1035].reset_index())\n",
    "trafo.shape"
   ]
  },
  {
   "cell_type": "code",
   "execution_count": 20,
   "metadata": {},
   "outputs": [
    {
     "data": {
      "text/plain": [
       "array([ 0.51237142, -0.85876393,  0.        ,  0.29393655,  0.92064989,\n",
       "        0.39038926,  1.        ,  0.        ])"
      ]
     },
     "execution_count": 20,
     "metadata": {},
     "output_type": "execute_result"
    }
   ],
   "source": [
    "trafo[3]"
   ]
  },
  {
   "cell_type": "code",
   "execution_count": 21,
   "metadata": {},
   "outputs": [],
   "source": [
    "load_data_kwds=dict(\n",
    "    data_path =  data_path,\n",
    "    history_size =  48*7,\n",
    "    prediction_size =  48*1,\n",
    "    shift =  48*1,\n",
    "    history_columns =  ['load'],\n",
    "    meta_columns = ['dayofyear_sin', 'dayofyear_cos', 'weekday_sin', 'weekday_cos', 'time_sin', 'time_cos', 'is_holiday'],\n",
    "    prediction_columns =  ['load'],\n",
    "    validation_split =  0.1,\n",
    "    batch_size =  32,\n",
    "    cycle_length =  10,\n",
    "    shuffle_buffer_size =  100,\n",
    "    seed =  1\n",
    ")"
   ]
  },
  {
   "cell_type": "code",
   "execution_count": 22,
   "metadata": {
    "scrolled": false
   },
   "outputs": [
    {
     "data": {
      "text/plain": [
       "{'train': <CacheDataset shapes: (((None, 336, 1), (None, 1, 7)), (None, 48, 1)), types: ((tf.float32, tf.float32), tf.float32)>,\n",
       " 'validate': <CacheDataset shapes: (((None, 336, 1), (None, 1, 7)), (None, 48, 1)), types: ((tf.float32, tf.float32), tf.float32)>,\n",
       " 'test': <CacheDataset shapes: (((None, 336, 1), (None, 1, 7)), (None, 48, 1)), types: ((tf.float32, tf.float32), tf.float32)>}"
      ]
     },
     "execution_count": 22,
     "metadata": {},
     "output_type": "execute_result"
    }
   ],
   "source": [
    "data_sets=load_data(**load_data_kwds)\n",
    "data_sets"
   ]
  },
  {
   "cell_type": "code",
   "execution_count": 23,
   "metadata": {},
   "outputs": [],
   "source": [
    "train_data = data_sets['train']"
   ]
  },
  {
   "cell_type": "code",
   "execution_count": 25,
   "metadata": {},
   "outputs": [
    {
     "data": {
      "text/plain": [
       "((32, 336, 1), (32, 1, 7), (32, 48, 1))"
      ]
     },
     "execution_count": 25,
     "metadata": {},
     "output_type": "execute_result"
    }
   ],
   "source": [
    "(x1,x2),y = next(train_data.as_numpy_iterator())\n",
    "x1.shape, x2.shape, y.shape"
   ]
  },
  {
   "cell_type": "markdown",
   "metadata": {},
   "source": [
    "# Plot Examples"
   ]
  },
  {
   "cell_type": "code",
   "execution_count": null,
   "metadata": {},
   "outputs": [],
   "source": [
    "def sample_and_plot(x_vdim,\n",
    "                    x_hdim,\n",
    "                    y_vdim,\n",
    "                    y_hdim,\n",
    "                    N=2,\n",
    "                    historic_columns=['load','is_holiday'],\n",
    "                    horizon_columns=['is_holiday'],\n",
    "                    prediction_columns=['load'],\n",
    "                    **kwds):\n",
    "\n",
    "    history_size=x_vdim*x_hdim\n",
    "    horizon_size=y_vdim*y_hdim\n",
    "    shift =  horizon_size\n",
    "\n",
    "    columns = set(historic_columns + horizon_columns + prediction_columns)\n",
    "    \n",
    "    idx={k:i for i,k in enumerate(columns)}\n",
    "    \n",
    "    height_ratios=[len(set(historic_columns + horizon_columns))*(np.where(len(historic_columns),x_vdim,0)+np.where(len(horizon_columns),y_vdim,0)),\n",
    "                   len(prediction_columns)*y_vdim]\n",
    "\n",
    "    fig_height=sum(height_ratios) + min(len(historic_columns),1) + min(len(prediction_columns),1)\n",
    "    fig_height/=5\n",
    "    fig_width=N*(max(x_hdim, y_hdim) + min(N-1,1))/7\n",
    "\n",
    "    ds = load_data(\n",
    "        data_path =  data_path,\n",
    "        history_size =  history_size,\n",
    "        horizon_size =  horizon_size,\n",
    "        shift =  shift,\n",
    "        historic_columns =  historic_columns,\n",
    "        horizon_columns =  horizon_columns,\n",
    "        prediction_columns =  prediction_columns,\n",
    "        splits = ['train'],\n",
    "        shuffle_buffer_size = 0,\n",
    "        seed = 1,\n",
    "        **kwds\n",
    "    )['train']\n",
    "    \n",
    "    plot_patches(ds,\n",
    "                 N=N,\n",
    "                 x_hdim=x_hdim,\n",
    "                 x_vdim=x_vdim,\n",
    "                 y_hdim=y_hdim,\n",
    "                 y_vdim=y_vdim,\n",
    "                 historic_columns=historic_columns,\n",
    "                 horizon_columns=horizon_columns,\n",
    "                 prediction_columns =  prediction_columns,\n",
    "                 title_map = {'x':'Input Data',\n",
    "                              'y':'Prediction Target'},\n",
    "                 y_label_map = {'x':{\n",
    "                                  'is_holiday':'Is Holiday',\n",
    "                                  'load':'Load'},\n",
    "                                'y':{\n",
    "                                  'load':'Load'}},\n",
    "                 fig_kw={'figsize':(fig_width,fig_height)},\n",
    "                 heatmap_kw={'x':{\n",
    "                                 'is_holiday':{'cmap':'binary'},\n",
    "                                 'load':{'cmap':'OrRd'}},\n",
    "                             'y':{\n",
    "                                 'load':{'cmap':'OrRd'}}},\n",
    "                 gridspec_kw={'height_ratios':height_ratios,\n",
    "                              'hspace':2/fig_height,\n",
    "                              'wspace':1/fig_width},\n",
    "                 xy_ch_connect=(\n",
    "                     ('load', 0),\n",
    "                     ('load', x_vdim + y_vdim - 1 - shift // x_hdim)))"
   ]
  },
  {
   "cell_type": "code",
   "execution_count": null,
   "metadata": {},
   "outputs": [],
   "source": [
    "x_vdim=7\n",
    "x_hdim=48\n",
    "y_vdim=1\n",
    "y_hdim=48"
   ]
  },
  {
   "cell_type": "code",
   "execution_count": null,
   "metadata": {
    "scrolled": true
   },
   "outputs": [],
   "source": [
    "sample_and_plot(\n",
    "    x_vdim=x_vdim,\n",
    "    x_hdim=x_hdim,\n",
    "    y_vdim=y_vdim,\n",
    "    y_hdim=y_hdim,\n",
    "    batch_size=3,\n",
    "    cycle_length=1)"
   ]
  },
  {
   "cell_type": "markdown",
   "metadata": {},
   "source": [
    "# Benchmark"
   ]
  },
  {
   "cell_type": "code",
   "execution_count": 29,
   "metadata": {},
   "outputs": [],
   "source": [
    "import time\n",
    "from tqdm.notebook import tqdm\n",
    "from tqdm.notebook import trange"
   ]
  },
  {
   "cell_type": "code",
   "execution_count": 30,
   "metadata": {},
   "outputs": [],
   "source": [
    "def benchmark(dataset, num_epochs=2):\n",
    "    start_time = time.perf_counter()\n",
    "    for epoch_num in trange(num_epochs):\n",
    "        epoch_start_time = time.perf_counter()\n",
    "        for sample in tqdm(dataset):\n",
    "            # Performing a training step\n",
    "            #time.sleep(0.0001)\n",
    "            pass\n",
    "        print(f\"Epoch {epoch_num} execution time:\",\n",
    "              time.perf_counter() - epoch_start_time)\n",
    "    print(\"Execution time:\", time.perf_counter() - start_time)"
   ]
  },
  {
   "cell_type": "code",
   "execution_count": 32,
   "metadata": {},
   "outputs": [
    {
     "data": {
      "application/vnd.jupyter.widget-view+json": {
       "model_id": "a1b583e6daca4ada8f73d564bbec8f63",
       "version_major": 2,
       "version_minor": 0
      },
      "text/plain": [
       "HBox(children=(HTML(value=''), FloatProgress(value=0.0, max=2.0), HTML(value='')))"
      ]
     },
     "metadata": {},
     "output_type": "display_data"
    },
    {
     "data": {
      "application/vnd.jupyter.widget-view+json": {
       "model_id": "257c38dfc7974bf28d070a2f888d4319",
       "version_major": 2,
       "version_minor": 0
      },
      "text/plain": [
       "HBox(children=(HTML(value=''), FloatProgress(value=1.0, bar_style='info', layout=Layout(width='20px'), max=1.0…"
      ]
     },
     "metadata": {},
     "output_type": "display_data"
    },
    {
     "name": "stdout",
     "output_type": "stream",
     "text": [
      "\n",
      "Epoch 0 execution time: 0.8640824360045372\n"
     ]
    },
    {
     "data": {
      "application/vnd.jupyter.widget-view+json": {
       "model_id": "0d13c5b344b346e08bcca3f6c43edeed",
       "version_major": 2,
       "version_minor": 0
      },
      "text/plain": [
       "HBox(children=(HTML(value=''), FloatProgress(value=1.0, bar_style='info', layout=Layout(width='20px'), max=1.0…"
      ]
     },
     "metadata": {},
     "output_type": "display_data"
    },
    {
     "name": "stdout",
     "output_type": "stream",
     "text": [
      "\n",
      "Epoch 1 execution time: 0.7732124620088143\n",
      "\n",
      "Execution time: 1.6772202599968296\n"
     ]
    }
   ],
   "source": [
    "benchmark(train_data)"
   ]
  },
  {
   "cell_type": "code",
   "execution_count": null,
   "metadata": {},
   "outputs": [],
   "source": []
  }
 ],
 "metadata": {
  "kernelspec": {
   "display_name": "Python 3",
   "language": "python",
   "name": "python3"
  },
  "language_info": {
   "codemirror_mode": {
    "name": "ipython",
    "version": 3
   },
   "file_extension": ".py",
   "mimetype": "text/x-python",
   "name": "python",
   "nbconvert_exporter": "python",
   "pygments_lexer": "ipython3",
   "version": "3.8.5"
  },
  "toc": {
   "base_numbering": 1,
   "nav_menu": {},
   "number_sections": true,
   "sideBar": true,
   "skip_h1_title": false,
   "title_cell": "Table of Contents",
   "title_sidebar": "Contents",
   "toc_cell": false,
   "toc_position": {},
   "toc_section_display": true,
   "toc_window_display": true
  },
  "varInspector": {
   "cols": {
    "lenName": 16,
    "lenType": 16,
    "lenVar": 40
   },
   "kernels_config": {
    "python": {
     "delete_cmd_postfix": "",
     "delete_cmd_prefix": "del ",
     "library": "var_list.py",
     "varRefreshCmd": "print(var_dic_list())"
    },
    "r": {
     "delete_cmd_postfix": ") ",
     "delete_cmd_prefix": "rm(",
     "library": "var_list.r",
     "varRefreshCmd": "cat(var_dic_list()) "
    }
   },
   "types_to_exclude": [
    "module",
    "function",
    "builtin_function_or_method",
    "instance",
    "_Feature"
   ],
   "window_display": false
  }
 },
 "nbformat": 4,
 "nbformat_minor": 4
}
