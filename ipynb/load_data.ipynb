{
 "cells": [
  {
   "cell_type": "markdown",
   "metadata": {},
   "source": [
    "# Import libraries"
   ]
  },
  {
   "cell_type": "code",
   "execution_count": 1,
   "metadata": {},
   "outputs": [],
   "source": [
    "import os\n",
    "import pandas as pd\n",
    "import numpy as np"
   ]
  },
  {
   "cell_type": "code",
   "execution_count": 2,
   "metadata": {},
   "outputs": [],
   "source": [
    "import seaborn as sns\n",
    "import matplotlib\n",
    "import matplotlib.pyplot as plt\n",
    "\n",
    "sns.set(style=\"ticks\", context=\"paper\")"
   ]
  },
  {
   "cell_type": "code",
   "execution_count": 3,
   "metadata": {},
   "outputs": [],
   "source": [
    "from sklearn.preprocessing import MinMaxScaler\n",
    "from sklearn.compose import make_column_transformer"
   ]
  },
  {
   "cell_type": "code",
   "execution_count": 4,
   "metadata": {},
   "outputs": [],
   "source": [
    "from bernstein_paper.util.visualization import plot_patches"
   ]
  },
  {
   "cell_type": "markdown",
   "metadata": {},
   "source": [
    "# Function Definition"
   ]
  },
  {
   "cell_type": "code",
   "execution_count": 5,
   "metadata": {},
   "outputs": [],
   "source": [
    "import os\n",
    "\n",
    "import tensorflow as tf\n",
    "\n",
    "from functools import partial\n",
    "\n",
    "from bernstein_paper.data.dataset import WindowedTimeSeriesDataSet\n",
    "from bernstein_paper.data.splitter import TimeSeriesSplit"
   ]
  },
  {
   "cell_type": "code",
   "execution_count": 6,
   "metadata": {},
   "outputs": [],
   "source": [
    "def load_data(data_path: str,\n",
    "              history_size,\n",
    "              prediction_size,\n",
    "              history_columns=['load', 'is_holiday', 'tempC'],\n",
    "              meta_columns=['is_holiday', 'tempC'],\n",
    "              prediction_columns=['load'],\n",
    "              splits=['train', 'validate', 'test'],\n",
    "              shift=None,\n",
    "              validation_split=None,\n",
    "              batch_size=32,\n",
    "              cycle_length=10,\n",
    "              shuffle_buffer_size=1000,\n",
    "              seed=42):\n",
    "    \"\"\"\n",
    "    Loads the preprocessed CER data and build the dataset.\n",
    "\n",
    "    :param      data_path:            The path to the folder containing the\n",
    "                                      train.csv and test.csv\n",
    "    :type       data_path:            str\n",
    "    :param      history_size:         The number of time steps of the historic\n",
    "                                      data a patch should contain\n",
    "    :type       history_size:         int\n",
    "    :param      prediction_size:      The number of time steps in the\n",
    "                                      prediction horizon a step should contain\n",
    "    :type       prediction_size:      int\n",
    "    :param      history_columns:     The historic columns\n",
    "    :type       history_columns:     Array\n",
    "    :param      meta_columns:         The column names to be used as horizon\n",
    "                                      data.\n",
    "    :type       meta_columns:         Array\n",
    "    :param      prediction_columns:   The columns to predict\n",
    "    :type       prediction_columns:   Array\n",
    "    :param      splits:               The data splits to be generated. At least\n",
    "                                      one of 'train', 'validate' or 'test'\n",
    "    :type       splits:               Array\n",
    "    :param      shift:                The amount of time steps by which the\n",
    "                                      window moves on each iteration\n",
    "    :type       shift:                int\n",
    "    :param      validation_split:     The amount of data reserved from the\n",
    "                                      training set for validation\n",
    "    :type       validation_split:     float\n",
    "    :param      batch_size:           The batch size\n",
    "    :type       batch_size:           int\n",
    "    :param      cycle_length:         The number of input elements that are\n",
    "                                      processed concurrently\n",
    "    :type       cycle_length:         int\n",
    "    :param      shuffle_buffer_size:  The shuffle buffer size\n",
    "    :type       shuffle_buffer_size:  int\n",
    "    :param      seed:                 The seed used by the pseudo random\n",
    "                                      generators\n",
    "    :type       seed:                 int\n",
    "\n",
    "    :returns:   A dict containing the windowed TensorFlow datasets generated\n",
    "                from csv file in `data_path` for the given `spits`.\n",
    "    :rtype:     dict\n",
    "    \"\"\"\n",
    "\n",
    "    # common ##################################################################\n",
    "    data = {}\n",
    "\n",
    "    column_transformers = {}\n",
    "    load_max = 14.134\n",
    "    eps = 1e-5\n",
    "    column_transformers['load'] = lambda x: tf.math.log(x + eps) - tf.math.log(eps) / (tf.math.log(load_max) - tf.math.log(eps))\n",
    "    column_transformers['weekday'] = lambda x: tf.one_hot(tf.cast(tf.squeeze(x), tf.uint8), 6)\n",
    "\n",
    "    make_dataset = partial(WindowedTimeSeriesDataSet,\n",
    "                           history_size=history_size,\n",
    "                           prediction_size=prediction_size,\n",
    "                           history_columns=history_columns,\n",
    "                           meta_columns=meta_columns,\n",
    "                           prediction_columns=prediction_columns,\n",
    "                           shift=shift,\n",
    "                           batch_size=32,\n",
    "                           cycle_length=cycle_length,\n",
    "                           shuffle_buffer_size=shuffle_buffer_size,\n",
    "                           seed=seed,\n",
    "                           column_transformers=column_transformers)\n",
    "\n",
    "    # train data ##############################################################\n",
    "    train_data_path = os.path.join(data_path, 'train.csv')\n",
    "    test_data_path = os.path.join(data_path, 'test.csv')\n",
    "\n",
    "    if 'train' in splits:\n",
    "        if validation_split is not None:\n",
    "            data_splitter = TimeSeriesSplit(\n",
    "                1 - validation_split, TimeSeriesSplit.LEFT)\n",
    "        else:\n",
    "            data_splitter = None\n",
    "\n",
    "        data['train'] = make_dataset(\n",
    "            file_path=train_data_path,\n",
    "            data_splitter=data_splitter)()\n",
    "\n",
    "    # validation data #########################################################\n",
    "    if 'validate' in splits and validation_split is not None:\n",
    "        data_splitter = TimeSeriesSplit(\n",
    "            validation_split, TimeSeriesSplit.RIGHT)\n",
    "\n",
    "        data['validate'] = make_dataset(\n",
    "            file_path=train_data_path,\n",
    "            data_splitter=data_splitter)()\n",
    "\n",
    "    # test data ###############################################################\n",
    "    if 'test' in splits:\n",
    "        data['test'] = make_dataset(\n",
    "            file_path=test_data_path)()\n",
    "\n",
    "    return data\n"
   ]
  },
  {
   "cell_type": "markdown",
   "metadata": {},
   "source": [
    "# Load Dataset"
   ]
  },
  {
   "cell_type": "code",
   "execution_count": 7,
   "metadata": {},
   "outputs": [],
   "source": [
    "data_path=\"../../data/CER Electricity Revised March 2012/preprocessed/mini/\""
   ]
  },
  {
   "cell_type": "code",
   "execution_count": 67,
   "metadata": {},
   "outputs": [],
   "source": [
    "test_csv=pd.read_csv(\n",
    "    os.path.join(data_path,'test.csv'),\n",
    "    parse_dates=['date_time'],\n",
    "    infer_datetime_format=True,\n",
    "    index_col=['date_time'],\n",
    "    dtype={'id': 'uint16',\n",
    "           'load': 'float32',\n",
    "           'is_holiday': 'uint8',\n",
    "           'weekday': 'uint8'})"
   ]
  },
  {
   "cell_type": "code",
   "execution_count": 68,
   "metadata": {},
   "outputs": [],
   "source": [
    "#ref.: https://www.kaggle.com/avanwyk/encoding-cyclical-features-for-deep-learning\n",
    "def encode(data, cycl_name, cycl = None):\n",
    "    if cycl is None:\n",
    "        cycl = getattr(data.index, cycl_name)\n",
    "    cycl_max = cycl.max()\n",
    "    data[cycl_name + '_sin'] = np.float32(np.sin(2 * np.pi * cycl/cycl_max))\n",
    "    data[cycl_name + '_cos'] = np.float32(np.cos(2 * np.pi * cycl/cycl_max))\n",
    "    return data"
   ]
  },
  {
   "cell_type": "code",
   "execution_count": 69,
   "metadata": {},
   "outputs": [],
   "source": [
    "test_csv = encode(test_csv, 'dayofyear')\n",
    "test_csv = encode(test_csv, 'weekday')\n",
    "test_csv = encode(test_csv, 'time', test_csv.index.hour*60+test_csv.index.minute)"
   ]
  },
  {
   "cell_type": "code",
   "execution_count": 70,
   "metadata": {},
   "outputs": [
    {
     "data": {
      "text/plain": [
       "(id                uint16\n",
       " load             float32\n",
       " is_holiday         uint8\n",
       " weekday            uint8\n",
       " dayofyear_sin    float32\n",
       " dayofyear_cos    float32\n",
       " weekday_sin      float32\n",
       " weekday_cos      float32\n",
       " time_sin         float32\n",
       " time_cos         float32\n",
       " dtype: object,\n",
       " (8276400, 10))"
      ]
     },
     "execution_count": 70,
     "metadata": {},
     "output_type": "execute_result"
    }
   ],
   "source": [
    "test_csv.dtypes,test_csv.shape"
   ]
  },
  {
   "cell_type": "code",
   "execution_count": 73,
   "metadata": {},
   "outputs": [
    {
     "data": {
      "text/plain": [
       "14.134"
      ]
     },
     "execution_count": 73,
     "metadata": {},
     "output_type": "execute_result"
    }
   ],
   "source": [
    "test_csv.load.max()"
   ]
  },
  {
   "cell_type": "code",
   "execution_count": 14,
   "metadata": {},
   "outputs": [
    {
     "name": "stderr",
     "output_type": "stream",
     "text": [
      "*c* argument looks like a single numeric RGB or RGBA sequence, which should be avoided as value-mapping will have precedence in case its length matches with *x* & *y*.  Please use the *color* keyword-argument or provide a 2-D array with a single row if you intend to specify the same RGB or RGBA value for all points.\n"
     ]
    },
    {
     "data": {
      "image/png": "[encoded data removed]",
      "text/plain": [
       "<Figure size 432x288 with 1 Axes>"
      ]
     },
     "metadata": {},
     "output_type": "display_data"
    }
   ],
   "source": [
    "test_csv.head(48).plot.scatter('time_cos', 'time_sin').set_aspect('equal')"
   ]
  },
  {
   "cell_type": "code",
   "execution_count": 15,
   "metadata": {},
   "outputs": [
    {
     "name": "stderr",
     "output_type": "stream",
     "text": [
      "*c* argument looks like a single numeric RGB or RGBA sequence, which should be avoided as value-mapping will have precedence in case its length matches with *x* & *y*.  Please use the *color* keyword-argument or provide a 2-D array with a single row if you intend to specify the same RGB or RGBA value for all points.\n"
     ]
    },
    {
     "data": {
      "image/png": "[encoded data removed]",
      "text/plain": [
       "<Figure size 432x288 with 1 Axes>"
      ]
     },
     "metadata": {},
     "output_type": "display_data"
    }
   ],
   "source": [
    "test_csv[test_csv.id==1035].head(48*365//2).plot.scatter('dayofyear_cos', 'dayofyear_sin').set_aspect('equal')"
   ]
  },
  {
   "cell_type": "code",
   "execution_count": 16,
   "metadata": {},
   "outputs": [
    {
     "data": {
      "text/plain": [
       "Int64Index([   0,   30,   60,   90,  120,  150,  180,  210,  240,  270,\n",
       "            ...\n",
       "            1140, 1170, 1200, 1230, 1260, 1290, 1320, 1350, 1380, 1410],\n",
       "           dtype='int64', name='date_time', length=8276400)"
      ]
     },
     "execution_count": 16,
     "metadata": {},
     "output_type": "execute_result"
    }
   ],
   "source": [
    "test_csv.index.hour*60+test_csv.index.minute"
   ]
  },
  {
   "cell_type": "code",
   "execution_count": 45,
   "metadata": {},
   "outputs": [
    {
     "data": {
      "text/plain": [
       "id                uint16\n",
       "load             float32\n",
       "is_holiday         uint8\n",
       "weekday            uint8\n",
       "dayofyear_sin    float32\n",
       "dayofyear_cos    float32\n",
       "weekday_sin      float32\n",
       "weekday_cos      float32\n",
       "time_sin         float32\n",
       "time_cos         float32\n",
       "dtype: object"
      ]
     },
     "execution_count": 45,
     "metadata": {},
     "output_type": "execute_result"
    }
   ],
   "source": [
    "test_csv.dtypes"
   ]
  },
  {
   "cell_type": "code",
   "execution_count": 87,
   "metadata": {},
   "outputs": [
    {
     "data": {
      "text/plain": [
       "0.0"
      ]
     },
     "execution_count": 87,
     "metadata": {},
     "output_type": "execute_result"
    }
   ],
   "source": [
    "((np.log(test_csv.load+1e-5) - np.log(1e-5)) / (np.log(test_csv.load.max()) - np.log(1e-5))).min()"
   ]
  },
  {
   "cell_type": "code",
   "execution_count": 97,
   "metadata": {},
   "outputs": [
    {
     "data": {
      "text/plain": [
       "1.0"
      ]
     },
     "execution_count": 97,
     "metadata": {},
     "output_type": "execute_result"
    }
   ],
   "source": [
    "np.sqrt(test_csv.load / test_csv.load.max()).max()"
   ]
  },
  {
   "cell_type": "code",
   "execution_count": 86,
   "metadata": {},
   "outputs": [
    {
     "data": {
      "text/plain": [
       "[<matplotlib.lines.Line2D at 0x7fc8ad378850>]"
      ]
     },
     "execution_count": 86,
     "metadata": {},
     "output_type": "execute_result"
    },
    {
     "data": {
      "image/png": "[encoded data removed]",
      "text/plain": [
       "<Figure size 432x288 with 1 Axes>"
      ]
     },
     "metadata": {},
     "output_type": "display_data"
    }
   ],
   "source": [
    "plt.plot(np.log(np.linspace(1,2)))"
   ]
  },
  {
   "cell_type": "code",
   "execution_count": 81,
   "metadata": {},
   "outputs": [
    {
     "data": {
      "text/plain": [
       "0.0"
      ]
     },
     "execution_count": 81,
     "metadata": {},
     "output_type": "execute_result"
    }
   ],
   "source": [
    "load_max = 14.134\n",
    "eps = 1e-5\n",
    "(np.log((test_csv.load + eps) / eps) / np.log(load_max / eps)).min()"
   ]
  },
  {
   "cell_type": "code",
   "execution_count": 18,
   "metadata": {},
   "outputs": [],
   "source": [
    "load_data_kwds=dict(\n",
    "    data_path =  data_path,\n",
    "    history_size =  48*7*2,\n",
    "    prediction_size =  48*1,\n",
    "    shift = 48*1,\n",
    "    history_columns =  ['load'],\n",
    "    meta_columns = ['dayofyear_sin', 'dayofyear_cos', 'weekday', 'time_sin', 'time_cos', 'is_holiday'],\n",
    "    prediction_columns =  ['load'],\n",
    "    validation_split =  0.1,\n",
    "    batch_size =  32,\n",
    "    cycle_length =  10,\n",
    "    shuffle_buffer_size =  100,\n",
    "    seed =  1\n",
    ")"
   ]
  },
  {
   "cell_type": "code",
   "execution_count": 19,
   "metadata": {
    "scrolled": false
   },
   "outputs": [
    {
     "data": {
      "text/plain": [
       "{'train': <CacheDataset shapes: (((None, 672, 1), (None, 1, None)), (None, 48, 1)), types: ((tf.float32, tf.float32), tf.float32)>,\n",
       " 'validate': <CacheDataset shapes: (((None, 672, 1), (None, 1, None)), (None, 48, 1)), types: ((tf.float32, tf.float32), tf.float32)>,\n",
       " 'test': <CacheDataset shapes: (((None, 672, 1), (None, 1, None)), (None, 48, 1)), types: ((tf.float32, tf.float32), tf.float32)>}"
      ]
     },
     "execution_count": 19,
     "metadata": {},
     "output_type": "execute_result"
    }
   ],
   "source": [
    "data_sets=load_data(**load_data_kwds)\n",
    "data_sets"
   ]
  },
  {
   "cell_type": "code",
   "execution_count": 20,
   "metadata": {},
   "outputs": [],
   "source": [
    "train_data = data_sets['train']"
   ]
  },
  {
   "cell_type": "code",
   "execution_count": 21,
   "metadata": {},
   "outputs": [
    {
     "data": {
      "text/plain": [
       "((32, 672, 1), (32, 1, 11), (32, 48, 1))"
      ]
     },
     "execution_count": 21,
     "metadata": {},
     "output_type": "execute_result"
    }
   ],
   "source": [
    "(x1,x2),y = next(train_data.as_numpy_iterator())\n",
    "x1.shape, x2.shape, y.shape"
   ]
  },
  {
   "cell_type": "code",
   "execution_count": 44,
   "metadata": {},
   "outputs": [
    {
     "data": {
      "text/plain": [
       "[<matplotlib.lines.Line2D at 0x7fc8aaf818e0>]"
      ]
     },
     "execution_count": 44,
     "metadata": {},
     "output_type": "execute_result"
    },
    {
     "data": {
      "image/png": "[encoded data removed]",
      "text/plain": [
       "<Figure size 432x288 with 1 Axes>"
      ]
     },
     "metadata": {},
     "output_type": "display_data"
    }
   ],
   "source": [
    "plt.plot(x1[0])"
   ]
  },
  {
   "cell_type": "code",
   "execution_count": 23,
   "metadata": {},
   "outputs": [
    {
     "data": {
      "text/plain": [
       "array([[-0.5049611 ,  0.86314213,  0.        ,  1.        ,  0.        ,\n",
       "         0.        ,  0.        ,  0.        ,  0.        ,  0.        ,\n",
       "         0.        ]], dtype=float32)"
      ]
     },
     "execution_count": 23,
     "metadata": {},
     "output_type": "execute_result"
    }
   ],
   "source": [
    "x2[0]"
   ]
  },
  {
   "cell_type": "code",
   "execution_count": 26,
   "metadata": {},
   "outputs": [
    {
     "data": {
      "text/plain": [
       "[<matplotlib.lines.Line2D at 0x7fc8a9a32850>]"
      ]
     },
     "execution_count": 26,
     "metadata": {},
     "output_type": "execute_result"
    },
    {
     "data": {
      "image/png": "[encoded data removed]",
      "text/plain": [
       "<Figure size 432x288 with 1 Axes>"
      ]
     },
     "metadata": {},
     "output_type": "display_data"
    }
   ],
   "source": [
    "plt.plot(np.exp(y[0]))"
   ]
  },
  {
   "cell_type": "code",
   "execution_count": 25,
   "metadata": {},
   "outputs": [
    {
     "ename": "TypeError",
     "evalue": "descriptor 'startswith' for 'str' objects doesn't apply to a 'numpy.ndarray' object",
     "output_type": "error",
     "traceback": [
      "\u001b[0;31m-------------------------------------------------------------------\u001b[0m",
      "\u001b[0;31mTypeError\u001b[0m                         Traceback (most recent call last)",
      "\u001b[0;32m<ipython-input-25-240b61e19a71>\u001b[0m in \u001b[0;36m<module>\u001b[0;34m\u001b[0m\n\u001b[0;32m----> 1\u001b[0;31m \u001b[0mnp\u001b[0m\u001b[0;34m.\u001b[0m\u001b[0mstr\u001b[0m\u001b[0;34m.\u001b[0m\u001b[0mstartswith\u001b[0m \u001b[0;34m(\u001b[0m\u001b[0mtest_csv\u001b[0m\u001b[0;34m.\u001b[0m\u001b[0mcolumns\u001b[0m\u001b[0;34m.\u001b[0m\u001b[0mto_numpy\u001b[0m\u001b[0;34m(\u001b[0m\u001b[0;34m)\u001b[0m\u001b[0;34m,\u001b[0m \u001b[0;34m'dayofyear'\u001b[0m\u001b[0;34m)\u001b[0m\u001b[0;34m\u001b[0m\u001b[0;34m\u001b[0m\u001b[0m\n\u001b[0m",
      "\u001b[0;31mTypeError\u001b[0m: descriptor 'startswith' for 'str' objects doesn't apply to a 'numpy.ndarray' object"
     ]
    }
   ],
   "source": [
    "np.str.startswith (test_csv.columns.to_numpy(), 'dayofyear')"
   ]
  },
  {
   "cell_type": "markdown",
   "metadata": {},
   "source": [
    "# Plot Examples"
   ]
  },
  {
   "cell_type": "code",
   "execution_count": null,
   "metadata": {},
   "outputs": [],
   "source": [
    "def sample_and_plot(x_vdim,\n",
    "                    x_hdim,\n",
    "                    y_vdim,\n",
    "                    y_hdim,\n",
    "                    N=2,\n",
    "                    historic_columns=['load','is_holiday'],\n",
    "                    horizon_columns=['is_holiday'],\n",
    "                    prediction_columns=['load'],\n",
    "                    **kwds):\n",
    "\n",
    "    history_size=x_vdim*x_hdim\n",
    "    horizon_size=y_vdim*y_hdim\n",
    "    shift =  horizon_size\n",
    "\n",
    "    columns = set(historic_columns + horizon_columns + prediction_columns)\n",
    "    \n",
    "    idx={k:i for i,k in enumerate(columns)}\n",
    "    \n",
    "    height_ratios=[len(set(historic_columns + horizon_columns))*(np.where(len(historic_columns),x_vdim,0)+np.where(len(horizon_columns),y_vdim,0)),\n",
    "                   len(prediction_columns)*y_vdim]\n",
    "\n",
    "    fig_height=sum(height_ratios) + min(len(historic_columns),1) + min(len(prediction_columns),1)\n",
    "    fig_height/=5\n",
    "    fig_width=N*(max(x_hdim, y_hdim) + min(N-1,1))/7\n",
    "\n",
    "    ds = load_data(\n",
    "        data_path =  data_path,\n",
    "        history_size =  history_size,\n",
    "        horizon_size =  horizon_size,\n",
    "        shift =  shift,\n",
    "        historic_columns =  historic_columns,\n",
    "        horizon_columns =  horizon_columns,\n",
    "        prediction_columns =  prediction_columns,\n",
    "        splits = ['train'],\n",
    "        shuffle_buffer_size = 0,\n",
    "        seed = 1,\n",
    "        **kwds\n",
    "    )['train']\n",
    "    \n",
    "    plot_patches(ds,\n",
    "                 N=N,\n",
    "                 x_hdim=x_hdim,\n",
    "                 x_vdim=x_vdim,\n",
    "                 y_hdim=y_hdim,\n",
    "                 y_vdim=y_vdim,\n",
    "                 historic_columns=historic_columns,\n",
    "                 horizon_columns=horizon_columns,\n",
    "                 prediction_columns =  prediction_columns,\n",
    "                 title_map = {'x':'Input Data',\n",
    "                              'y':'Prediction Target'},\n",
    "                 y_label_map = {'x':{\n",
    "                                  'is_holiday':'Is Holiday',\n",
    "                                  'load':'Load'},\n",
    "                                'y':{\n",
    "                                  'load':'Load'}},\n",
    "                 fig_kw={'figsize':(fig_width,fig_height)},\n",
    "                 heatmap_kw={'x':{\n",
    "                                 'is_holiday':{'cmap':'binary'},\n",
    "                                 'load':{'cmap':'OrRd'}},\n",
    "                             'y':{\n",
    "                                 'load':{'cmap':'OrRd'}}},\n",
    "                 gridspec_kw={'height_ratios':height_ratios,\n",
    "                              'hspace':2/fig_height,\n",
    "                              'wspace':1/fig_width},\n",
    "                 xy_ch_connect=(\n",
    "                     ('load', 0),\n",
    "                     ('load', x_vdim + y_vdim - 1 - shift // x_hdim)))"
   ]
  },
  {
   "cell_type": "code",
   "execution_count": null,
   "metadata": {},
   "outputs": [],
   "source": [
    "x_vdim=7\n",
    "x_hdim=48\n",
    "y_vdim=1\n",
    "y_hdim=48"
   ]
  },
  {
   "cell_type": "code",
   "execution_count": null,
   "metadata": {
    "scrolled": true
   },
   "outputs": [],
   "source": [
    "sample_and_plot(\n",
    "    x_vdim=x_vdim,\n",
    "    x_hdim=x_hdim,\n",
    "    y_vdim=y_vdim,\n",
    "    y_hdim=y_hdim,\n",
    "    batch_size=3,\n",
    "    cycle_length=1)"
   ]
  },
  {
   "cell_type": "markdown",
   "metadata": {},
   "source": [
    "# Benchmark"
   ]
  },
  {
   "cell_type": "code",
   "execution_count": null,
   "metadata": {},
   "outputs": [],
   "source": [
    "import time\n",
    "from tqdm.notebook import tqdm\n",
    "from tqdm.notebook import trange"
   ]
  },
  {
   "cell_type": "code",
   "execution_count": null,
   "metadata": {},
   "outputs": [],
   "source": [
    "def benchmark(dataset, num_epochs=2):\n",
    "    start_time = time.perf_counter()\n",
    "    for epoch_num in trange(num_epochs):\n",
    "        epoch_start_time = time.perf_counter()\n",
    "        for sample in tqdm(dataset):\n",
    "            # Performing a training step\n",
    "            #time.sleep(0.0001)\n",
    "            pass\n",
    "        print(f\"Epoch {epoch_num} execution time:\",\n",
    "              time.perf_counter() - epoch_start_time)\n",
    "    print(\"Execution time:\", time.perf_counter() - start_time)"
   ]
  },
  {
   "cell_type": "code",
   "execution_count": null,
   "metadata": {},
   "outputs": [],
   "source": [
    "benchmark(train_data)"
   ]
  },
  {
   "cell_type": "code",
   "execution_count": null,
   "metadata": {},
   "outputs": [],
   "source": []
  }
 ],
 "metadata": {
  "kernelspec": {
   "display_name": "Python 3",
   "language": "python",
   "name": "python3"
  },
  "language_info": {
   "codemirror_mode": {
    "name": "ipython",
    "version": 3
   },
   "file_extension": ".py",
   "mimetype": "text/x-python",
   "name": "python",
   "nbconvert_exporter": "python",
   "pygments_lexer": "ipython3",
   "version": "3.8.5"
  },
  "toc": {
   "base_numbering": 1,
   "nav_menu": {},
   "number_sections": true,
   "sideBar": true,
   "skip_h1_title": false,
   "title_cell": "Table of Contents",
   "title_sidebar": "Contents",
   "toc_cell": false,
   "toc_position": {},
   "toc_section_display": true,
   "toc_window_display": true
  },
  "varInspector": {
   "cols": {
    "lenName": 16,
    "lenType": 16,
    "lenVar": 40
   },
   "kernels_config": {
    "python": {
     "delete_cmd_postfix": "",
     "delete_cmd_prefix": "del ",
     "library": "var_list.py",
     "varRefreshCmd": "print(var_dic_list())"
    },
    "r": {
     "delete_cmd_postfix": ") ",
     "delete_cmd_prefix": "rm(",
     "library": "var_list.r",
     "varRefreshCmd": "cat(var_dic_list()) "
    }
   },
   "types_to_exclude": [
    "module",
    "function",
    "builtin_function_or_method",
    "instance",
    "_Feature"
   ],
   "window_display": false
  }
 },
 "nbformat": 4,
 "nbformat_minor": 4
}
