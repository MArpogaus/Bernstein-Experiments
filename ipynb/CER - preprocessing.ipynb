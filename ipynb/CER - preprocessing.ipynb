{
 "cells": [
  {
   "cell_type": "markdown",
   "metadata": {},
   "source": [
    "# CER Electricity Revised March 2012"
   ]
  },
  {
   "cell_type": "markdown",
   "metadata": {},
   "source": [
    "## Import libaries"
   ]
  },
  {
   "cell_type": "code",
   "execution_count": 2,
   "metadata": {},
   "outputs": [],
   "source": [
    "import os\n",
    "import pandas as pd\n",
    "import numpy as np\n",
    "\n",
    "import seaborn as sns\n",
    "import matplotlib.pyplot as plt\n",
    "sns.set(style=\"ticks\", context=\"paper\") # imporved plt styles\n",
    "\n",
    "from tqdm.notebook import tqdm as tqdm\n",
    "#from wwo_hist import retrieve_hist_data"
   ]
  },
  {
   "cell_type": "markdown",
   "metadata": {},
   "source": [
    "## Function definitions"
   ]
  },
  {
   "cell_type": "code",
   "execution_count": 3,
   "metadata": {},
   "outputs": [],
   "source": [
    "from pandas.tseries.offsets import Day, Minute\n",
    "def date_parser(d):\n",
    "    day_code=int(d[:3])\n",
    "    time_code=int(d[3:])\n",
    "    return pd.datetime(2009,1,1) + Day(day_code - 1) + Minute(30) * (time_code - 1)"
   ]
  },
  {
   "cell_type": "code",
   "execution_count": 4,
   "metadata": {},
   "outputs": [],
   "source": [
    "def mem_usage(pandas_obj):\n",
    "    if isinstance(pandas_obj,pd.DataFrame):\n",
    "        usage_b = pandas_obj.memory_usage(deep=True).sum()\n",
    "    else: # we assume if not a df it's a series\n",
    "        usage_b = pandas_obj.memory_usage(deep=True)\n",
    "    usage_mb = usage_b / 1024 ** 2 # convert bytes to megabytes\n",
    "    return \"{:03.2f} MB\".format(usage_mb)"
   ]
  },
  {
   "cell_type": "code",
   "execution_count": 5,
   "metadata": {},
   "outputs": [],
   "source": [
    "def save_cleaned_csv(data, file_path, **kwargs):\n",
    "    data.to_csv(file_path,\n",
    "                float_format=\"%.3f\",\n",
    "                #chunksize=1e5,\n",
    "                **kwargs)"
   ]
  },
  {
   "cell_type": "code",
   "execution_count": 6,
   "metadata": {},
   "outputs": [],
   "source": [
    "def dowload_weather_data(api_key,\n",
    "                         frequency,\n",
    "                         start_date,\n",
    "                         end_date):\n",
    "    location_list = ['Dublin']\n",
    "    hist_weather_data = retrieve_hist_data(api_key,\n",
    "                                           location_list,\n",
    "                                           start_date,\n",
    "                                           end_date,\n",
    "                                           frequency,\n",
    "                                           store_df = True)\n",
    "    return hist_weather_data"
   ]
  },
  {
   "cell_type": "code",
   "execution_count": 7,
   "metadata": {},
   "outputs": [],
   "source": [
    "def save_load_temp_csv(load_data, weather_data, file_path, **kwargs):\n",
    "    re_idx = sorted(load_data.index.drop_duplicates())\n",
    "    weather_ridx = weather_data.reindex(re_idx).ffill(limit=2)\n",
    "\n",
    "    if weather_ridx.isnull().any().sum() != 0:\n",
    "        raise ValueError(\"Missing weather data in given load period\")\n",
    "\n",
    "    load_data = pd.merge(load_data,\n",
    "                         weather_ridx,\n",
    "                         how='left',\n",
    "                         left_index=True,\n",
    "                         right_index=True)\n",
    "\n",
    "    if load_data.isnull().any().sum() != 0:\n",
    "        raise ValueError(\"Data has NaNs\")\n",
    "\n",
    "    load_data.to_csv(file_path,\n",
    "                     float_format=\"%.3f\",\n",
    "                     **kwargs)"
   ]
  },
  {
   "cell_type": "code",
   "execution_count": 8,
   "metadata": {},
   "outputs": [],
   "source": [
    "def gen_date_time(date, minute = 0):\n",
    "    date_time=pd.to_datetime(date,\n",
    "                             unit='h',\n",
    "                             infer_datetime_format=True)\n",
    "    date_time+=pd.to_timedelta(minute*30,\n",
    "                               unit='m')\n",
    "    return date_time"
   ]
  },
  {
   "cell_type": "code",
   "execution_count": 9,
   "metadata": {},
   "outputs": [],
   "source": [
    "def interpolate_missing_values(df):\n",
    "    it=tqdm(total=6)\n",
    "    it.set_description('set date time index')\n",
    "    df=df.set_index('date_time') # set date time index to interpolate on\n",
    "    it.update()\n",
    "    it.set_description('groupby id')\n",
    "    df=df.groupby('id') # group by housholds\n",
    "    it.update()\n",
    "    it.set_description('resampling')\n",
    "    df=df.resample('30T') # resample with freq = 30M\n",
    "    it.update()\n",
    "    df=df.asfreq() # Return the values at the new freq, essentially a reindex.\n",
    "    it.update()\n",
    "    it.set_description('interpolating')\n",
    "    df=df.interpolate(method='linear', limit_direction='forward', limit=2) # remove nans by forward interpolation\n",
    "    it.update()\n",
    "    it.set_description('dropping id')\n",
    "    df=df.drop('id',axis='columns') # drop id since interpolation turned it into garbage \n",
    "    it.update()\n",
    "    return df#.reset_index()"
   ]
  },
  {
   "cell_type": "code",
   "execution_count": 10,
   "metadata": {},
   "outputs": [],
   "source": [
    "#ref.: https://www.kaggle.com/avanwyk/encoding-cyclical-features-for-deep-learning\n",
    "def encode(data, cycl_name):\n",
    "    cycl = getattr(data.date_time.dt, cycl_name)\n",
    "    cycl_max = cycl.max()\n",
    "    data[cycl_name + '_sin'] = np.sin(2 * np.pi * cycl/cycl_max, dtype=np.float32)\n",
    "    data[cycl_name + '_cos'] = np.cos(2 * np.pi * cycl/cycl_max, dtype=np.float32)\n",
    "    return data"
   ]
  },
  {
   "cell_type": "markdown",
   "metadata": {},
   "source": [
    "## Load data"
   ]
  },
  {
   "cell_type": "code",
   "execution_count": 11,
   "metadata": {},
   "outputs": [
    {
     "data": {
      "text/plain": [
       "['File6.txt', 'File1.txt', 'File5.txt', 'File2.txt', 'File4.txt', 'File3.txt']"
      ]
     },
     "execution_count": 11,
     "metadata": {},
     "output_type": "execute_result"
    }
   ],
   "source": [
    "data_path=os.path.join(\"../../data\",'CER Electricity Revised March 2012')\n",
    "files=[file for file in os.listdir(data_path) if file.startswith('File') and file.endswith('.txt')]\n",
    "files"
   ]
  },
  {
   "cell_type": "code",
   "execution_count": 11,
   "metadata": {},
   "outputs": [
    {
     "data": {
      "text/html": [
       "<div>\n",
       "<style scoped>\n",
       "    .dataframe tbody tr th:only-of-type {\n",
       "        vertical-align: middle;\n",
       "    }\n",
       "\n",
       "    .dataframe tbody tr th {\n",
       "        vertical-align: top;\n",
       "    }\n",
       "\n",
       "    .dataframe thead th {\n",
       "        text-align: right;\n",
       "    }\n",
       "</style>\n",
       "<table border=\"1\" class=\"dataframe\">\n",
       "  <thead>\n",
       "    <tr style=\"text-align: right;\">\n",
       "      <th></th>\n",
       "      <th>id</th>\n",
       "      <th>code</th>\n",
       "    </tr>\n",
       "  </thead>\n",
       "  <tbody>\n",
       "    <tr>\n",
       "      <th>0</th>\n",
       "      <td>1000</td>\n",
       "      <td>3</td>\n",
       "    </tr>\n",
       "    <tr>\n",
       "      <th>1</th>\n",
       "      <td>1001</td>\n",
       "      <td>3</td>\n",
       "    </tr>\n",
       "    <tr>\n",
       "      <th>2</th>\n",
       "      <td>1002</td>\n",
       "      <td>1</td>\n",
       "    </tr>\n",
       "    <tr>\n",
       "      <th>3</th>\n",
       "      <td>1003</td>\n",
       "      <td>1</td>\n",
       "    </tr>\n",
       "    <tr>\n",
       "      <th>4</th>\n",
       "      <td>1004</td>\n",
       "      <td>1</td>\n",
       "    </tr>\n",
       "  </tbody>\n",
       "</table>\n",
       "</div>"
      ],
      "text/plain": [
       "     id  code\n",
       "0  1000     3\n",
       "1  1001     3\n",
       "2  1002     1\n",
       "3  1003     1\n",
       "4  1004     1"
      ]
     },
     "execution_count": 11,
     "metadata": {},
     "output_type": "execute_result"
    }
   ],
   "source": [
    "file_name=os.path.join(data_path, 'SME and Residential allocations.txt')\n",
    "df_categories=pd.read_csv(file_name,\n",
    "      dtype={\"Id\":'uint16',\"Code\":\"uint8\"},\n",
    "      sep=\"\\s+\")\n",
    "#data[f]=df\n",
    "#categories = pd.Categorical.from_codes(\n",
    "#    df_categories.Code - 1,\n",
    "#    ['residential','enterprise','other']\n",
    "#)\n",
    "df_categories.columns = df_categories.columns.str.lower()\n",
    "df_categories.head()"
   ]
  },
  {
   "cell_type": "code",
   "execution_count": 12,
   "metadata": {},
   "outputs": [
    {
     "data": {
      "text/plain": [
       "4225"
      ]
     },
     "execution_count": 12,
     "metadata": {},
     "output_type": "execute_result"
    }
   ],
   "source": [
    "residential_ids=df_categories[df_categories.code == 1].id\n",
    "residential_ids.size"
   ]
  },
  {
   "cell_type": "code",
   "execution_count": 13,
   "metadata": {},
   "outputs": [
    {
     "data": {
      "application/vnd.jupyter.widget-view+json": {
       "model_id": "0f331d80df284b5ea56dab66a7f0de4d",
       "version_major": 2,
       "version_minor": 0
      },
      "text/plain": [
       "HBox(children=(HTML(value=''), FloatProgress(value=0.0, max=6.0), HTML(value='')))"
      ]
     },
     "metadata": {},
     "output_type": "display_data"
    },
    {
     "name": "stdout",
     "output_type": "stream",
     "text": [
      "\n"
     ]
    }
   ],
   "source": [
    "data=dict()\n",
    "it=tqdm(files)\n",
    "for f in it:\n",
    "    it.set_description(f\"reading file: {f}\")\n",
    "\n",
    "    file_name=os.path.join(data_path, f)\n",
    "    df=pd.read_csv(file_name,\n",
    "          header=None,\n",
    "          names=[\"id\",\"date_time\",\"load\"],\n",
    "          dtype={\"id\":'uint16', \"load\": 'float32'},\n",
    "          #index_col=[\"id\",\"date_time\"],\n",
    "          #parse_dates=[1],\n",
    "          #date_parser=date_parser,\n",
    "          sep=\"\\s+\")\n",
    "    \n",
    "    # drop all *non residential* ids\n",
    "    it.set_description(\"select residential ids\")\n",
    "    df=df.loc[df.id.isin(residential_ids)]\n",
    "\n",
    "    # parse timestamp\n",
    "    it.set_description(\"generating timestamps\")\n",
    "    # digit 1-3 (day 1 = 2019/1/1)\n",
    "    day_code=df.date_time // 100 - 1\n",
    "    # digit 4-5 (1 = 00:00:00 - 00:29:59)\n",
    "    time_code=df.date_time % 100 - 1\n",
    "\n",
    "    date=pd.to_datetime(day_code,\n",
    "                        unit='D',\n",
    "                        origin=pd.Timestamp('2009-01-01'),\n",
    "                        infer_datetime_format=True)\n",
    "    time_delta=pd.to_timedelta(time_code*30,\n",
    "                unit='m')\n",
    "    df.date_time=date+time_delta\n",
    "    #df.date_time=(date.astype('int') // (10**9*60*60)).astype('uint32')\n",
    "    #df.rename(columns={'date_time':'date'},inplace=True)\n",
    "    #df['weekday']=date.dt.weekday\n",
    "    \n",
    "    # reduce mem footprint\n",
    "    #it.set_description(\"reduce mem footprint\")\n",
    "    #df['minute']=time_code.astype('uint8')\n",
    "    #df.id=df.id.astype('uint16')\n",
    "    \n",
    "    # replace all invalid (0) fileds with NaN\n",
    "    #df.load.replace(0.0,np.nan,inplace=True)\n",
    "\n",
    "    data[f]=df\n",
    "\n",
    "del df,day_code,time_code,date,df_categories"
   ]
  },
  {
   "cell_type": "markdown",
   "metadata": {},
   "source": [
    "## Prepare data"
   ]
  },
  {
   "cell_type": "code",
   "execution_count": 14,
   "metadata": {},
   "outputs": [],
   "source": [
    "data=pd.concat(data.values())"
   ]
  },
  {
   "cell_type": "markdown",
   "metadata": {},
   "source": [
    "## Review data metrics"
   ]
  },
  {
   "cell_type": "code",
   "execution_count": 15,
   "metadata": {},
   "outputs": [
    {
     "data": {
      "text/html": [
       "<div>\n",
       "<style scoped>\n",
       "    .dataframe tbody tr th:only-of-type {\n",
       "        vertical-align: middle;\n",
       "    }\n",
       "\n",
       "    .dataframe tbody tr th {\n",
       "        vertical-align: top;\n",
       "    }\n",
       "\n",
       "    .dataframe thead th {\n",
       "        text-align: right;\n",
       "    }\n",
       "</style>\n",
       "<table border=\"1\" class=\"dataframe\">\n",
       "  <thead>\n",
       "    <tr style=\"text-align: right;\">\n",
       "      <th></th>\n",
       "      <th>id</th>\n",
       "      <th>date_time</th>\n",
       "      <th>load</th>\n",
       "    </tr>\n",
       "  </thead>\n",
       "  <tbody>\n",
       "    <tr>\n",
       "      <th>0</th>\n",
       "      <td>6496</td>\n",
       "      <td>2009-07-16 09:30:00</td>\n",
       "      <td>2.958</td>\n",
       "    </tr>\n",
       "    <tr>\n",
       "      <th>1</th>\n",
       "      <td>6496</td>\n",
       "      <td>2009-07-16 10:00:00</td>\n",
       "      <td>1.443</td>\n",
       "    </tr>\n",
       "    <tr>\n",
       "      <th>2</th>\n",
       "      <td>6496</td>\n",
       "      <td>2009-07-16 10:30:00</td>\n",
       "      <td>0.131</td>\n",
       "    </tr>\n",
       "    <tr>\n",
       "      <th>3</th>\n",
       "      <td>6496</td>\n",
       "      <td>2009-07-16 11:30:00</td>\n",
       "      <td>0.144</td>\n",
       "    </tr>\n",
       "    <tr>\n",
       "      <th>4</th>\n",
       "      <td>6496</td>\n",
       "      <td>2009-07-16 12:00:00</td>\n",
       "      <td>0.208</td>\n",
       "    </tr>\n",
       "  </tbody>\n",
       "</table>\n",
       "</div>"
      ],
      "text/plain": [
       "     id           date_time   load\n",
       "0  6496 2009-07-16 09:30:00  2.958\n",
       "1  6496 2009-07-16 10:00:00  1.443\n",
       "2  6496 2009-07-16 10:30:00  0.131\n",
       "3  6496 2009-07-16 11:30:00  0.144\n",
       "4  6496 2009-07-16 12:00:00  0.208"
      ]
     },
     "execution_count": 15,
     "metadata": {},
     "output_type": "execute_result"
    }
   ],
   "source": [
    "data.head()"
   ]
  },
  {
   "cell_type": "code",
   "execution_count": 16,
   "metadata": {},
   "outputs": [
    {
     "data": {
      "text/plain": [
       "id                   uint16\n",
       "date_time    datetime64[ns]\n",
       "load                float32\n",
       "dtype: object"
      ]
     },
     "execution_count": 16,
     "metadata": {},
     "output_type": "execute_result"
    }
   ],
   "source": [
    "data.dtypes"
   ]
  },
  {
   "cell_type": "code",
   "execution_count": 17,
   "metadata": {},
   "outputs": [
    {
     "data": {
      "text/plain": [
       "4225"
      ]
     },
     "execution_count": 17,
     "metadata": {},
     "output_type": "execute_result"
    }
   ],
   "source": [
    "len(data.id.unique())"
   ]
  },
  {
   "cell_type": "code",
   "execution_count": 18,
   "metadata": {},
   "outputs": [
    {
     "data": {
      "text/plain": [
       "'2280.17 MB'"
      ]
     },
     "execution_count": 18,
     "metadata": {},
     "output_type": "execute_result"
    }
   ],
   "source": [
    "mem_usage(data)"
   ]
  },
  {
   "cell_type": "code",
   "execution_count": 19,
   "metadata": {},
   "outputs": [
    {
     "data": {
      "text/plain": [
       "0"
      ]
     },
     "execution_count": 19,
     "metadata": {},
     "output_type": "execute_result"
    }
   ],
   "source": [
    "data.load.isnull().sum()"
   ]
  },
  {
   "cell_type": "code",
   "execution_count": 20,
   "metadata": {},
   "outputs": [
    {
     "data": {
      "text/plain": [
       "False"
      ]
     },
     "execution_count": 20,
     "metadata": {},
     "output_type": "execute_result"
    }
   ],
   "source": [
    "data.load[data.load < 0.0].any()"
   ]
  },
  {
   "cell_type": "code",
   "execution_count": 21,
   "metadata": {},
   "outputs": [
    {
     "data": {
      "text/plain": [
       "count    1.086788e+08\n",
       "mean     5.012664e-01\n",
       "std      6.843614e-01\n",
       "min      0.000000e+00\n",
       "25%      1.190000e-01\n",
       "50%      2.510000e-01\n",
       "75%      5.790000e-01\n",
       "max      1.711500e+01\n",
       "Name: load, dtype: float64"
      ]
     },
     "execution_count": 21,
     "metadata": {},
     "output_type": "execute_result"
    }
   ],
   "source": [
    "data.load.describe()"
   ]
  },
  {
   "cell_type": "markdown",
   "metadata": {},
   "source": [
    "## Date Cleaning"
   ]
  },
  {
   "cell_type": "markdown",
   "metadata": {},
   "source": [
    "### Delete assets missing values"
   ]
  },
  {
   "cell_type": "code",
   "execution_count": 22,
   "metadata": {},
   "outputs": [],
   "source": [
    "size_ids=data.groupby('id').size()"
   ]
  },
  {
   "cell_type": "code",
   "execution_count": 23,
   "metadata": {},
   "outputs": [],
   "source": [
    "min_records=size_ids.max()"
   ]
  },
  {
   "cell_type": "code",
   "execution_count": 24,
   "metadata": {},
   "outputs": [
    {
     "data": {
      "text/plain": [
       "586"
      ]
     },
     "execution_count": 24,
     "metadata": {},
     "output_type": "execute_result"
    }
   ],
   "source": [
    "(size_ids != min_records).sum()"
   ]
  },
  {
   "cell_type": "code",
   "execution_count": 25,
   "metadata": {},
   "outputs": [
    {
     "data": {
      "text/plain": [
       "0.138698224852071"
      ]
     },
     "execution_count": 25,
     "metadata": {},
     "output_type": "execute_result"
    }
   ],
   "source": [
    "(size_ids != min_records).sum()/len(data.id.unique())"
   ]
  },
  {
   "cell_type": "code",
   "execution_count": 26,
   "metadata": {},
   "outputs": [
    {
     "data": {
      "text/plain": [
       "UInt64Index([1008, 1025, 1034, 1068, 1078, 1080, 1094, 1112, 1134, 1152,\n",
       "             ...\n",
       "             7337, 7351, 7353, 7359, 7398, 7405, 7409, 7429, 7430, 7440],\n",
       "            dtype='uint64', name='id', length=586)"
      ]
     },
     "execution_count": 26,
     "metadata": {},
     "output_type": "execute_result"
    }
   ],
   "source": [
    "low_data_ids=size_ids[size_ids != min_records].index\n",
    "low_data_ids"
   ]
  },
  {
   "cell_type": "code",
   "execution_count": 27,
   "metadata": {},
   "outputs": [],
   "source": [
    "data=data[~data.id.isin(low_data_ids)]"
   ]
  },
  {
   "cell_type": "code",
   "execution_count": 28,
   "metadata": {},
   "outputs": [
    {
     "data": {
      "text/plain": [
       "'1964.47 MB'"
      ]
     },
     "execution_count": 28,
     "metadata": {},
     "output_type": "execute_result"
    }
   ],
   "source": [
    "mem_usage(data)"
   ]
  },
  {
   "cell_type": "code",
   "execution_count": 29,
   "metadata": {},
   "outputs": [
    {
     "data": {
      "text/plain": [
       "3639"
      ]
     },
     "execution_count": 29,
     "metadata": {},
     "output_type": "execute_result"
    }
   ],
   "source": [
    "len(data.id.unique())"
   ]
  },
  {
   "cell_type": "markdown",
   "metadata": {},
   "source": [
    "### time change"
   ]
  },
  {
   "cell_type": "markdown",
   "metadata": {},
   "source": [
    " * `25. Okt 2009` - Sommerzeit endete: $+1$ Stunde\n",
    " * `28. Mär 2010` - Sommerzeit begann: $-1$ Stunde\n",
    " * `31. Okt 2010` - Sommerzeit endete: $+1$ Stunde"
   ]
  },
  {
   "cell_type": "code",
   "execution_count": 30,
   "metadata": {},
   "outputs": [
    {
     "data": {
      "text/plain": [
       "array([48, 50, 46])"
      ]
     },
     "execution_count": 30,
     "metadata": {},
     "output_type": "execute_result"
    }
   ],
   "source": [
    "num_duplicates=data.groupby(['id', data.date_time.dt.date]).size()\n",
    "num_duplicates.unique()"
   ]
  },
  {
   "cell_type": "code",
   "execution_count": 31,
   "metadata": {},
   "outputs": [
    {
     "data": {
      "text/plain": [
       "Index([2010-03-28], dtype='object', name='date_time')"
      ]
     },
     "execution_count": 31,
     "metadata": {},
     "output_type": "execute_result"
    }
   ],
   "source": [
    "num_duplicates[num_duplicates == 46].index.get_level_values(1).unique()"
   ]
  },
  {
   "cell_type": "code",
   "execution_count": 32,
   "metadata": {},
   "outputs": [
    {
     "data": {
      "text/plain": [
       "Index([2009-10-26, 2010-11-01], dtype='object', name='date_time')"
      ]
     },
     "execution_count": 32,
     "metadata": {},
     "output_type": "execute_result"
    }
   ],
   "source": [
    "num_duplicates[num_duplicates == 50].index.get_level_values(1).unique()"
   ]
  },
  {
   "cell_type": "markdown",
   "metadata": {},
   "source": [
    "#### Merge duplicated hours due to summer time end"
   ]
  },
  {
   "cell_type": "code",
   "execution_count": 33,
   "metadata": {},
   "outputs": [
    {
     "data": {
      "text/html": [
       "<div>\n",
       "<style scoped>\n",
       "    .dataframe tbody tr th:only-of-type {\n",
       "        vertical-align: middle;\n",
       "    }\n",
       "\n",
       "    .dataframe tbody tr th {\n",
       "        vertical-align: top;\n",
       "    }\n",
       "\n",
       "    .dataframe thead th {\n",
       "        text-align: right;\n",
       "    }\n",
       "</style>\n",
       "<table border=\"1\" class=\"dataframe\">\n",
       "  <thead>\n",
       "    <tr style=\"text-align: right;\">\n",
       "      <th></th>\n",
       "      <th>id</th>\n",
       "      <th>date_time</th>\n",
       "      <th>load</th>\n",
       "    </tr>\n",
       "  </thead>\n",
       "  <tbody>\n",
       "    <tr>\n",
       "      <th>0</th>\n",
       "      <td>1002</td>\n",
       "      <td>2009-07-14 00:00:00</td>\n",
       "      <td>0.362</td>\n",
       "    </tr>\n",
       "    <tr>\n",
       "      <th>1</th>\n",
       "      <td>1002</td>\n",
       "      <td>2009-07-14 00:30:00</td>\n",
       "      <td>0.064</td>\n",
       "    </tr>\n",
       "    <tr>\n",
       "      <th>2</th>\n",
       "      <td>1002</td>\n",
       "      <td>2009-07-14 01:00:00</td>\n",
       "      <td>0.119</td>\n",
       "    </tr>\n",
       "    <tr>\n",
       "      <th>3</th>\n",
       "      <td>1002</td>\n",
       "      <td>2009-07-14 01:30:00</td>\n",
       "      <td>0.023</td>\n",
       "    </tr>\n",
       "    <tr>\n",
       "      <th>4</th>\n",
       "      <td>1002</td>\n",
       "      <td>2009-07-14 02:00:00</td>\n",
       "      <td>0.140</td>\n",
       "    </tr>\n",
       "    <tr>\n",
       "      <th>...</th>\n",
       "      <td>...</td>\n",
       "      <td>...</td>\n",
       "      <td>...</td>\n",
       "    </tr>\n",
       "    <tr>\n",
       "      <th>93616909</th>\n",
       "      <td>7443</td>\n",
       "      <td>2010-12-31 21:30:00</td>\n",
       "      <td>0.486</td>\n",
       "    </tr>\n",
       "    <tr>\n",
       "      <th>93616910</th>\n",
       "      <td>7443</td>\n",
       "      <td>2010-12-31 22:00:00</td>\n",
       "      <td>0.318</td>\n",
       "    </tr>\n",
       "    <tr>\n",
       "      <th>93616911</th>\n",
       "      <td>7443</td>\n",
       "      <td>2010-12-31 22:30:00</td>\n",
       "      <td>0.332</td>\n",
       "    </tr>\n",
       "    <tr>\n",
       "      <th>93616912</th>\n",
       "      <td>7443</td>\n",
       "      <td>2010-12-31 23:00:00</td>\n",
       "      <td>0.357</td>\n",
       "    </tr>\n",
       "    <tr>\n",
       "      <th>93616913</th>\n",
       "      <td>7443</td>\n",
       "      <td>2010-12-31 23:30:00</td>\n",
       "      <td>0.332</td>\n",
       "    </tr>\n",
       "  </tbody>\n",
       "</table>\n",
       "<p>93616914 rows × 3 columns</p>\n",
       "</div>"
      ],
      "text/plain": [
       "            id           date_time   load\n",
       "0         1002 2009-07-14 00:00:00  0.362\n",
       "1         1002 2009-07-14 00:30:00  0.064\n",
       "2         1002 2009-07-14 01:00:00  0.119\n",
       "3         1002 2009-07-14 01:30:00  0.023\n",
       "4         1002 2009-07-14 02:00:00  0.140\n",
       "...        ...                 ...    ...\n",
       "93616909  7443 2010-12-31 21:30:00  0.486\n",
       "93616910  7443 2010-12-31 22:00:00  0.318\n",
       "93616911  7443 2010-12-31 22:30:00  0.332\n",
       "93616912  7443 2010-12-31 23:00:00  0.357\n",
       "93616913  7443 2010-12-31 23:30:00  0.332\n",
       "\n",
       "[93616914 rows x 3 columns]"
      ]
     },
     "execution_count": 33,
     "metadata": {},
     "output_type": "execute_result"
    }
   ],
   "source": [
    "data=data.groupby(['id','date_time']).sum().reset_index()\n",
    "data"
   ]
  },
  {
   "cell_type": "markdown",
   "metadata": {},
   "source": [
    "#### Interpolate missing hour on winter time end"
   ]
  },
  {
   "cell_type": "code",
   "execution_count": 34,
   "metadata": {},
   "outputs": [
    {
     "data": {
      "application/vnd.jupyter.widget-view+json": {
       "model_id": "54b7ffe361764df59a560e58d80b2595",
       "version_major": 2,
       "version_minor": 0
      },
      "text/plain": [
       "HBox(children=(HTML(value=''), FloatProgress(value=0.0, max=6.0), HTML(value='')))"
      ]
     },
     "metadata": {},
     "output_type": "display_data"
    },
    {
     "data": {
      "text/html": [
       "<div>\n",
       "<style scoped>\n",
       "    .dataframe tbody tr th:only-of-type {\n",
       "        vertical-align: middle;\n",
       "    }\n",
       "\n",
       "    .dataframe tbody tr th {\n",
       "        vertical-align: top;\n",
       "    }\n",
       "\n",
       "    .dataframe thead th {\n",
       "        text-align: right;\n",
       "    }\n",
       "</style>\n",
       "<table border=\"1\" class=\"dataframe\">\n",
       "  <thead>\n",
       "    <tr style=\"text-align: right;\">\n",
       "      <th></th>\n",
       "      <th>id</th>\n",
       "      <th>date_time</th>\n",
       "      <th>load</th>\n",
       "    </tr>\n",
       "  </thead>\n",
       "  <tbody>\n",
       "    <tr>\n",
       "      <th>0</th>\n",
       "      <td>1002</td>\n",
       "      <td>2009-07-14 00:00:00</td>\n",
       "      <td>0.362</td>\n",
       "    </tr>\n",
       "    <tr>\n",
       "      <th>1</th>\n",
       "      <td>1002</td>\n",
       "      <td>2009-07-14 00:30:00</td>\n",
       "      <td>0.064</td>\n",
       "    </tr>\n",
       "    <tr>\n",
       "      <th>2</th>\n",
       "      <td>1002</td>\n",
       "      <td>2009-07-14 01:00:00</td>\n",
       "      <td>0.119</td>\n",
       "    </tr>\n",
       "    <tr>\n",
       "      <th>3</th>\n",
       "      <td>1002</td>\n",
       "      <td>2009-07-14 01:30:00</td>\n",
       "      <td>0.023</td>\n",
       "    </tr>\n",
       "    <tr>\n",
       "      <th>4</th>\n",
       "      <td>1002</td>\n",
       "      <td>2009-07-14 02:00:00</td>\n",
       "      <td>0.140</td>\n",
       "    </tr>\n",
       "    <tr>\n",
       "      <th>...</th>\n",
       "      <td>...</td>\n",
       "      <td>...</td>\n",
       "      <td>...</td>\n",
       "    </tr>\n",
       "    <tr>\n",
       "      <th>93624187</th>\n",
       "      <td>7443</td>\n",
       "      <td>2010-12-31 21:30:00</td>\n",
       "      <td>0.486</td>\n",
       "    </tr>\n",
       "    <tr>\n",
       "      <th>93624188</th>\n",
       "      <td>7443</td>\n",
       "      <td>2010-12-31 22:00:00</td>\n",
       "      <td>0.318</td>\n",
       "    </tr>\n",
       "    <tr>\n",
       "      <th>93624189</th>\n",
       "      <td>7443</td>\n",
       "      <td>2010-12-31 22:30:00</td>\n",
       "      <td>0.332</td>\n",
       "    </tr>\n",
       "    <tr>\n",
       "      <th>93624190</th>\n",
       "      <td>7443</td>\n",
       "      <td>2010-12-31 23:00:00</td>\n",
       "      <td>0.357</td>\n",
       "    </tr>\n",
       "    <tr>\n",
       "      <th>93624191</th>\n",
       "      <td>7443</td>\n",
       "      <td>2010-12-31 23:30:00</td>\n",
       "      <td>0.332</td>\n",
       "    </tr>\n",
       "  </tbody>\n",
       "</table>\n",
       "<p>93624192 rows × 3 columns</p>\n",
       "</div>"
      ],
      "text/plain": [
       "            id           date_time   load\n",
       "0         1002 2009-07-14 00:00:00  0.362\n",
       "1         1002 2009-07-14 00:30:00  0.064\n",
       "2         1002 2009-07-14 01:00:00  0.119\n",
       "3         1002 2009-07-14 01:30:00  0.023\n",
       "4         1002 2009-07-14 02:00:00  0.140\n",
       "...        ...                 ...    ...\n",
       "93624187  7443 2010-12-31 21:30:00  0.486\n",
       "93624188  7443 2010-12-31 22:00:00  0.318\n",
       "93624189  7443 2010-12-31 22:30:00  0.332\n",
       "93624190  7443 2010-12-31 23:00:00  0.357\n",
       "93624191  7443 2010-12-31 23:30:00  0.332\n",
       "\n",
       "[93624192 rows x 3 columns]"
      ]
     },
     "execution_count": 34,
     "metadata": {},
     "output_type": "execute_result"
    }
   ],
   "source": [
    "data = interpolate_missing_values(data).reset_index()\n",
    "data"
   ]
  },
  {
   "cell_type": "code",
   "execution_count": 35,
   "metadata": {},
   "outputs": [],
   "source": [
    "# Did it work?\n",
    "#data.index.duplicated().sum()"
   ]
  },
  {
   "cell_type": "code",
   "execution_count": 36,
   "metadata": {
    "scrolled": true
   },
   "outputs": [],
   "source": [
    "#num_duplicates=data.groupby(['id', data.date_time.dt.date]).size()\n",
    "#num_duplicates.unique()"
   ]
  },
  {
   "cell_type": "markdown",
   "metadata": {},
   "source": [
    "## Add Holiday indicator and weekday"
   ]
  },
  {
   "cell_type": "code",
   "execution_count": 37,
   "metadata": {},
   "outputs": [
    {
     "data": {
      "text/plain": [
       "(datetime.date(2009, 7, 14), datetime.date(2010, 12, 31))"
      ]
     },
     "execution_count": 37,
     "metadata": {},
     "output_type": "execute_result"
    }
   ],
   "source": [
    "start_date=data.date_time.dt.date.min()\n",
    "end_date=data.date_time.dt.date.max()\n",
    "start_date,end_date"
   ]
  },
  {
   "cell_type": "code",
   "execution_count": 38,
   "metadata": {},
   "outputs": [],
   "source": [
    "from holidays import Ireland as holidays_ir\n",
    "\n",
    "holidays = holidays_ir()"
   ]
  },
  {
   "cell_type": "code",
   "execution_count": 39,
   "metadata": {},
   "outputs": [],
   "source": [
    "h = holidays[start_date:end_date]\n",
    "is_holiday = np.uint8((data.date_time.dt.weekday > 4) | np.isin(data.date_time.dt.date,h))"
   ]
  },
  {
   "cell_type": "code",
   "execution_count": 40,
   "metadata": {},
   "outputs": [],
   "source": [
    "data['is_holiday']=is_holiday"
   ]
  },
  {
   "cell_type": "code",
   "execution_count": 41,
   "metadata": {},
   "outputs": [],
   "source": [
    "data['weekday']=np.uint8(data.date_time.dt.weekday)"
   ]
  },
  {
   "cell_type": "markdown",
   "metadata": {},
   "source": [
    "## Encode Cyclic features as sin and cos"
   ]
  },
  {
   "cell_type": "code",
   "execution_count": 42,
   "metadata": {},
   "outputs": [],
   "source": [
    "#data = encode(data, 'hour')"
   ]
  },
  {
   "cell_type": "code",
   "execution_count": 43,
   "metadata": {},
   "outputs": [],
   "source": [
    "#data = encode(data, 'minute')"
   ]
  },
  {
   "cell_type": "code",
   "execution_count": 44,
   "metadata": {},
   "outputs": [],
   "source": [
    "#data = encode(data, 'day')"
   ]
  },
  {
   "cell_type": "code",
   "execution_count": 45,
   "metadata": {},
   "outputs": [],
   "source": [
    "#data = encode(data, 'month')"
   ]
  },
  {
   "cell_type": "code",
   "execution_count": 46,
   "metadata": {
    "scrolled": false
   },
   "outputs": [],
   "source": [
    "#data.head(48).plot.scatter('hour_cos', 'hour_sin').set_aspect('equal')"
   ]
  },
  {
   "cell_type": "code",
   "execution_count": 47,
   "metadata": {
    "scrolled": true
   },
   "outputs": [],
   "source": [
    "#data.head(10).plot.scatter('minute_cos', 'minute_sin')#.set_aspect('equal')"
   ]
  },
  {
   "cell_type": "code",
   "execution_count": 48,
   "metadata": {},
   "outputs": [],
   "source": [
    "#data.head(48*31).plot.scatter('day_cos', 'day_sin').set_aspect('equal')"
   ]
  },
  {
   "cell_type": "code",
   "execution_count": 49,
   "metadata": {},
   "outputs": [],
   "source": [
    "#data.head(48*30*12).plot.scatter('month_cos', 'month_sin').set_aspect('equal')"
   ]
  },
  {
   "cell_type": "code",
   "execution_count": 50,
   "metadata": {},
   "outputs": [
    {
     "data": {
      "text/html": [
       "<div>\n",
       "<style scoped>\n",
       "    .dataframe tbody tr th:only-of-type {\n",
       "        vertical-align: middle;\n",
       "    }\n",
       "\n",
       "    .dataframe tbody tr th {\n",
       "        vertical-align: top;\n",
       "    }\n",
       "\n",
       "    .dataframe thead th {\n",
       "        text-align: right;\n",
       "    }\n",
       "</style>\n",
       "<table border=\"1\" class=\"dataframe\">\n",
       "  <thead>\n",
       "    <tr style=\"text-align: right;\">\n",
       "      <th></th>\n",
       "      <th>id</th>\n",
       "      <th>date_time</th>\n",
       "      <th>load</th>\n",
       "      <th>is_holiday</th>\n",
       "      <th>weekday</th>\n",
       "    </tr>\n",
       "  </thead>\n",
       "  <tbody>\n",
       "    <tr>\n",
       "      <th>0</th>\n",
       "      <td>1002</td>\n",
       "      <td>2009-07-14 00:00:00</td>\n",
       "      <td>0.362</td>\n",
       "      <td>0</td>\n",
       "      <td>1</td>\n",
       "    </tr>\n",
       "    <tr>\n",
       "      <th>1</th>\n",
       "      <td>1002</td>\n",
       "      <td>2009-07-14 00:30:00</td>\n",
       "      <td>0.064</td>\n",
       "      <td>0</td>\n",
       "      <td>1</td>\n",
       "    </tr>\n",
       "    <tr>\n",
       "      <th>2</th>\n",
       "      <td>1002</td>\n",
       "      <td>2009-07-14 01:00:00</td>\n",
       "      <td>0.119</td>\n",
       "      <td>0</td>\n",
       "      <td>1</td>\n",
       "    </tr>\n",
       "    <tr>\n",
       "      <th>3</th>\n",
       "      <td>1002</td>\n",
       "      <td>2009-07-14 01:30:00</td>\n",
       "      <td>0.023</td>\n",
       "      <td>0</td>\n",
       "      <td>1</td>\n",
       "    </tr>\n",
       "    <tr>\n",
       "      <th>4</th>\n",
       "      <td>1002</td>\n",
       "      <td>2009-07-14 02:00:00</td>\n",
       "      <td>0.140</td>\n",
       "      <td>0</td>\n",
       "      <td>1</td>\n",
       "    </tr>\n",
       "  </tbody>\n",
       "</table>\n",
       "</div>"
      ],
      "text/plain": [
       "     id           date_time   load  is_holiday  weekday\n",
       "0  1002 2009-07-14 00:00:00  0.362           0        1\n",
       "1  1002 2009-07-14 00:30:00  0.064           0        1\n",
       "2  1002 2009-07-14 01:00:00  0.119           0        1\n",
       "3  1002 2009-07-14 01:30:00  0.023           0        1\n",
       "4  1002 2009-07-14 02:00:00  0.140           0        1"
      ]
     },
     "execution_count": 50,
     "metadata": {},
     "output_type": "execute_result"
    }
   ],
   "source": [
    "data.head()"
   ]
  },
  {
   "cell_type": "code",
   "execution_count": 51,
   "metadata": {},
   "outputs": [
    {
     "data": {
      "text/plain": [
       "id                    uint64\n",
       "date_time     datetime64[ns]\n",
       "load                 float32\n",
       "is_holiday             uint8\n",
       "weekday                uint8\n",
       "dtype: object"
      ]
     },
     "execution_count": 51,
     "metadata": {},
     "output_type": "execute_result"
    }
   ],
   "source": [
    "data.dtypes"
   ]
  },
  {
   "cell_type": "code",
   "execution_count": 52,
   "metadata": {},
   "outputs": [
    {
     "data": {
      "text/plain": [
       "'1964.31 MB'"
      ]
     },
     "execution_count": 52,
     "metadata": {},
     "output_type": "execute_result"
    }
   ],
   "source": [
    "mem_usage(data)"
   ]
  },
  {
   "cell_type": "markdown",
   "metadata": {},
   "source": [
    "## Split in Training and Test data"
   ]
  },
  {
   "cell_type": "code",
   "execution_count": 53,
   "metadata": {},
   "outputs": [],
   "source": [
    "data.set_index('date_time', inplace=True)"
   ]
  },
  {
   "cell_type": "markdown",
   "metadata": {},
   "source": [
    "### Reeserve ~10% of data for testing"
   ]
  },
  {
   "cell_type": "code",
   "execution_count": 54,
   "metadata": {},
   "outputs": [
    {
     "data": {
      "text/plain": [
       "1.8"
      ]
     },
     "execution_count": 54,
     "metadata": {},
     "output_type": "execute_result"
    }
   ],
   "source": [
    "months=len(pd.period_range(start_date,end_date,freq='M'))\n",
    "0.10*months"
   ]
  },
  {
   "cell_type": "code",
   "execution_count": 55,
   "metadata": {},
   "outputs": [
    {
     "data": {
      "text/plain": [
       "datetime.date(2010, 11, 1)"
      ]
     },
     "execution_count": 55,
     "metadata": {},
     "output_type": "execute_result"
    }
   ],
   "source": [
    "split_date=end_date-int(np.round(0.10*months))*pd.offsets.MonthBegin()\n",
    "split_date.to_pydatetime().date()"
   ]
  },
  {
   "cell_type": "code",
   "execution_count": 56,
   "metadata": {},
   "outputs": [
    {
     "data": {
      "text/plain": [
       "'train data from 2009-07-14 till 2010-10-31 23:30:00'"
      ]
     },
     "execution_count": 56,
     "metadata": {},
     "output_type": "execute_result"
    }
   ],
   "source": [
    "f'train data from {start_date} till {split_date - pd.offsets.Minute(30)}'"
   ]
  },
  {
   "cell_type": "code",
   "execution_count": 57,
   "metadata": {},
   "outputs": [
    {
     "data": {
      "text/plain": [
       "'test data from 2010-11-01 00:00:00 till 2010-12-31'"
      ]
     },
     "execution_count": 57,
     "metadata": {},
     "output_type": "execute_result"
    }
   ],
   "source": [
    "f'test data from {split_date} till {end_date}'"
   ]
  },
  {
   "cell_type": "code",
   "execution_count": 58,
   "metadata": {},
   "outputs": [
    {
     "data": {
      "text/plain": [
       "('2010-11-01 00:00:00', '2010-10-31 23:30:00')"
      ]
     },
     "execution_count": 58,
     "metadata": {},
     "output_type": "execute_result"
    }
   ],
   "source": [
    "test_data_split_day_str=str(split_date)\n",
    "train_data_split_day_str=str(split_date - pd.offsets.Minute(30))\n",
    "test_data_split_day_str,train_data_split_day_str"
   ]
  },
  {
   "cell_type": "code",
   "execution_count": 59,
   "metadata": {},
   "outputs": [],
   "source": [
    "test_data = data.loc[test_data_split_day_str:]"
   ]
  },
  {
   "cell_type": "code",
   "execution_count": 60,
   "metadata": {},
   "outputs": [],
   "source": [
    "train_data = data.loc[:train_data_split_day_str]"
   ]
  },
  {
   "cell_type": "code",
   "execution_count": 61,
   "metadata": {},
   "outputs": [
    {
     "data": {
      "text/plain": [
       "0.11380597014925373"
      ]
     },
     "execution_count": 61,
     "metadata": {},
     "output_type": "execute_result"
    }
   ],
   "source": [
    "test_data.load.count()/data.load.count()"
   ]
  },
  {
   "cell_type": "code",
   "execution_count": 62,
   "metadata": {},
   "outputs": [
    {
     "data": {
      "text/plain": [
       "(Timestamp('2009-07-14 00:00:00'), Timestamp('2010-10-31 23:30:00'))"
      ]
     },
     "execution_count": 62,
     "metadata": {},
     "output_type": "execute_result"
    }
   ],
   "source": [
    "train_data.index.min(),train_data.index.max()"
   ]
  },
  {
   "cell_type": "code",
   "execution_count": 63,
   "metadata": {},
   "outputs": [
    {
     "data": {
      "text/plain": [
       "(Timestamp('2010-11-01 00:00:00'), Timestamp('2010-12-31 23:30:00'))"
      ]
     },
     "execution_count": 63,
     "metadata": {},
     "output_type": "execute_result"
    }
   ],
   "source": [
    "test_data.index.min(),test_data.index.max()"
   ]
  },
  {
   "cell_type": "code",
   "execution_count": 64,
   "metadata": {},
   "outputs": [],
   "source": [
    "if test_data.index.isin(train_data.index.unique()).any():\n",
    "    raise Error(\"Information leak detected!\")"
   ]
  },
  {
   "cell_type": "markdown",
   "metadata": {},
   "source": [
    "### Are ids in both sets?"
   ]
  },
  {
   "cell_type": "code",
   "execution_count": 65,
   "metadata": {},
   "outputs": [],
   "source": [
    "assert test_data.id.unique() in train_data.id.unique() and train_data.id.unique() in test_data.id.unique(), 'not all assets in both sets'"
   ]
  },
  {
   "cell_type": "markdown",
   "metadata": {},
   "source": [
    "## Save as CSV"
   ]
  },
  {
   "cell_type": "code",
   "execution_count": 66,
   "metadata": {},
   "outputs": [],
   "source": [
    "cleaned_data_path=os.path.join(data_path,'preprocessed')"
   ]
  },
  {
   "cell_type": "code",
   "execution_count": 67,
   "metadata": {},
   "outputs": [
    {
     "data": {
      "application/vnd.jupyter.widget-view+json": {
       "model_id": "193dc0fd052145138af2d1738cd3ecd3",
       "version_major": 2,
       "version_minor": 0
      },
      "text/plain": [
       "HBox(children=(HTML(value=''), FloatProgress(value=0.0, max=2.0), HTML(value='')))"
      ]
     },
     "metadata": {},
     "output_type": "display_data"
    },
    {
     "name": "stdout",
     "output_type": "stream",
     "text": [
      "\n"
     ]
    }
   ],
   "source": [
    "for ds,dat in tqdm(zip(['train','test'],[train_data,test_data]),total=2):\n",
    "    file_path=os.path.join(cleaned_data_path,f'{ds}.csv')\n",
    "    os.makedirs(os.path.dirname(file_path),exist_ok=True)\n",
    "    dat.to_csv(file_path,\n",
    "               float_format=\"%.3f\")"
   ]
  },
  {
   "cell_type": "code",
   "execution_count": 68,
   "metadata": {},
   "outputs": [
    {
     "name": "stdout",
     "output_type": "stream",
     "text": [
      "date_time,id,load,is_holiday,weekday\r\n",
      "2009-07-14 00:00:00,1002,0.362,0,1\r\n",
      "...\r\n",
      "2010-10-31 23:30:00,7443,0.120,1,6\r\n"
     ]
    }
   ],
   "source": [
    "!head -n 2 \"$cleaned_data_path/train.csv\"; echo '...'; tail -n 1 \"$cleaned_data_path/train.csv\""
   ]
  },
  {
   "cell_type": "code",
   "execution_count": 69,
   "metadata": {},
   "outputs": [
    {
     "name": "stdout",
     "output_type": "stream",
     "text": [
      "date_time,id,load,is_holiday,weekday\r\n",
      "2010-11-01 00:00:00,1002,0.101,0,0\r\n",
      "...\r\n",
      "2010-12-31 23:30:00,7443,0.332,0,4\r\n"
     ]
    }
   ],
   "source": [
    "!head -n 2 \"$cleaned_data_path/test.csv\"; echo '...'; tail -n 1 \"$cleaned_data_path/test.csv\""
   ]
  },
  {
   "cell_type": "code",
   "execution_count": 70,
   "metadata": {},
   "outputs": [],
   "source": [
    "read_csv=pd.read_csv(\n",
    "    os.path.join(cleaned_data_path,'train.csv'),\n",
    "    parse_dates=['date_time'],\n",
    "    infer_datetime_format=True,\n",
    "    index_col=['date_time'],\n",
    "    dtype={'id': 'uint16',\n",
    "           'load': 'float32',\n",
    "           'is_holiday': 'uint8'})"
   ]
  },
  {
   "cell_type": "code",
   "execution_count": 71,
   "metadata": {},
   "outputs": [
    {
     "data": {
      "text/html": [
       "<div>\n",
       "<style scoped>\n",
       "    .dataframe tbody tr th:only-of-type {\n",
       "        vertical-align: middle;\n",
       "    }\n",
       "\n",
       "    .dataframe tbody tr th {\n",
       "        vertical-align: top;\n",
       "    }\n",
       "\n",
       "    .dataframe thead th {\n",
       "        text-align: right;\n",
       "    }\n",
       "</style>\n",
       "<table border=\"1\" class=\"dataframe\">\n",
       "  <thead>\n",
       "    <tr style=\"text-align: right;\">\n",
       "      <th></th>\n",
       "      <th>id</th>\n",
       "      <th>load</th>\n",
       "      <th>is_holiday</th>\n",
       "      <th>weekday</th>\n",
       "    </tr>\n",
       "    <tr>\n",
       "      <th>date_time</th>\n",
       "      <th></th>\n",
       "      <th></th>\n",
       "      <th></th>\n",
       "      <th></th>\n",
       "    </tr>\n",
       "  </thead>\n",
       "  <tbody>\n",
       "    <tr>\n",
       "      <th>2009-07-14 00:00:00</th>\n",
       "      <td>1002</td>\n",
       "      <td>0.362</td>\n",
       "      <td>0</td>\n",
       "      <td>1</td>\n",
       "    </tr>\n",
       "    <tr>\n",
       "      <th>2009-07-14 00:30:00</th>\n",
       "      <td>1002</td>\n",
       "      <td>0.064</td>\n",
       "      <td>0</td>\n",
       "      <td>1</td>\n",
       "    </tr>\n",
       "    <tr>\n",
       "      <th>2009-07-14 01:00:00</th>\n",
       "      <td>1002</td>\n",
       "      <td>0.119</td>\n",
       "      <td>0</td>\n",
       "      <td>1</td>\n",
       "    </tr>\n",
       "    <tr>\n",
       "      <th>2009-07-14 01:30:00</th>\n",
       "      <td>1002</td>\n",
       "      <td>0.023</td>\n",
       "      <td>0</td>\n",
       "      <td>1</td>\n",
       "    </tr>\n",
       "    <tr>\n",
       "      <th>2009-07-14 02:00:00</th>\n",
       "      <td>1002</td>\n",
       "      <td>0.140</td>\n",
       "      <td>0</td>\n",
       "      <td>1</td>\n",
       "    </tr>\n",
       "    <tr>\n",
       "      <th>...</th>\n",
       "      <td>...</td>\n",
       "      <td>...</td>\n",
       "      <td>...</td>\n",
       "      <td>...</td>\n",
       "    </tr>\n",
       "    <tr>\n",
       "      <th>2010-10-31 21:30:00</th>\n",
       "      <td>7443</td>\n",
       "      <td>0.254</td>\n",
       "      <td>1</td>\n",
       "      <td>6</td>\n",
       "    </tr>\n",
       "    <tr>\n",
       "      <th>2010-10-31 22:00:00</th>\n",
       "      <td>7443</td>\n",
       "      <td>0.167</td>\n",
       "      <td>1</td>\n",
       "      <td>6</td>\n",
       "    </tr>\n",
       "    <tr>\n",
       "      <th>2010-10-31 22:30:00</th>\n",
       "      <td>7443</td>\n",
       "      <td>0.137</td>\n",
       "      <td>1</td>\n",
       "      <td>6</td>\n",
       "    </tr>\n",
       "    <tr>\n",
       "      <th>2010-10-31 23:00:00</th>\n",
       "      <td>7443</td>\n",
       "      <td>0.134</td>\n",
       "      <td>1</td>\n",
       "      <td>6</td>\n",
       "    </tr>\n",
       "    <tr>\n",
       "      <th>2010-10-31 23:30:00</th>\n",
       "      <td>7443</td>\n",
       "      <td>0.120</td>\n",
       "      <td>1</td>\n",
       "      <td>6</td>\n",
       "    </tr>\n",
       "  </tbody>\n",
       "</table>\n",
       "<p>82969200 rows × 4 columns</p>\n",
       "</div>"
      ],
      "text/plain": [
       "                       id   load  is_holiday  weekday\n",
       "date_time                                            \n",
       "2009-07-14 00:00:00  1002  0.362           0        1\n",
       "2009-07-14 00:30:00  1002  0.064           0        1\n",
       "2009-07-14 01:00:00  1002  0.119           0        1\n",
       "2009-07-14 01:30:00  1002  0.023           0        1\n",
       "2009-07-14 02:00:00  1002  0.140           0        1\n",
       "...                   ...    ...         ...      ...\n",
       "2010-10-31 21:30:00  7443  0.254           1        6\n",
       "2010-10-31 22:00:00  7443  0.167           1        6\n",
       "2010-10-31 22:30:00  7443  0.137           1        6\n",
       "2010-10-31 23:00:00  7443  0.134           1        6\n",
       "2010-10-31 23:30:00  7443  0.120           1        6\n",
       "\n",
       "[82969200 rows x 4 columns]"
      ]
     },
     "execution_count": 71,
     "metadata": {},
     "output_type": "execute_result"
    }
   ],
   "source": [
    "read_csv"
   ]
  },
  {
   "cell_type": "code",
   "execution_count": 72,
   "metadata": {},
   "outputs": [
    {
     "data": {
      "text/plain": [
       "'1819.89 MB'"
      ]
     },
     "execution_count": 72,
     "metadata": {},
     "output_type": "execute_result"
    }
   ],
   "source": [
    "mem_usage(read_csv)"
   ]
  },
  {
   "cell_type": "markdown",
   "metadata": {},
   "source": [
    "## Subset of data as CSV"
   ]
  },
  {
   "cell_type": "code",
   "execution_count": 73,
   "metadata": {},
   "outputs": [],
   "source": [
    "np.random.seed(42)\n",
    "subset_size=0.1"
   ]
  },
  {
   "cell_type": "code",
   "execution_count": 74,
   "metadata": {},
   "outputs": [],
   "source": [
    "ids=test_data.id.unique()\n",
    "np.random.shuffle(ids)\n",
    "ids=ids[:int(subset_size * len(ids))]"
   ]
  },
  {
   "cell_type": "code",
   "execution_count": 75,
   "metadata": {},
   "outputs": [],
   "source": [
    "train_data_subset=train_data[train_data.id.isin(ids)]\n",
    "test_data_subset=test_data[test_data.id.isin(ids)]"
   ]
  },
  {
   "cell_type": "code",
   "execution_count": 76,
   "metadata": {},
   "outputs": [
    {
     "data": {
      "text/plain": [
       "(True,)"
      ]
     },
     "execution_count": 76,
     "metadata": {},
     "output_type": "execute_result"
    }
   ],
   "source": [
    "train_data_subset.id.unique() in test_data_subset.id.unique()"
   ]
  },
  {
   "cell_type": "code",
   "execution_count": 77,
   "metadata": {},
   "outputs": [],
   "source": [
    "cleaned_subset_data_path=os.path.join(cleaned_data_path,'mini')"
   ]
  },
  {
   "cell_type": "code",
   "execution_count": 78,
   "metadata": {},
   "outputs": [
    {
     "data": {
      "application/vnd.jupyter.widget-view+json": {
       "model_id": "00075cc002574e7d8d3d96f5cff696f7",
       "version_major": 2,
       "version_minor": 0
      },
      "text/plain": [
       "HBox(children=(HTML(value=''), FloatProgress(value=0.0, max=2.0), HTML(value='')))"
      ]
     },
     "metadata": {},
     "output_type": "display_data"
    },
    {
     "name": "stdout",
     "output_type": "stream",
     "text": [
      "\n"
     ]
    }
   ],
   "source": [
    "for ds,dat in tqdm(zip(['train','test'],[train_data_subset,test_data_subset]),total=2):\n",
    "    file_path=os.path.join(cleaned_subset_data_path,f'{ds}.csv')\n",
    "    os.makedirs(os.path.dirname(file_path),exist_ok=True)\n",
    "    dat.to_csv(file_path,\n",
    "               float_format=\"%.3f\")"
   ]
  }
 ],
 "metadata": {
  "kernelspec": {
   "display_name": "Python 3",
   "language": "python",
   "name": "python3"
  },
  "language_info": {
   "codemirror_mode": {
    "name": "ipython",
    "version": 3
   },
   "file_extension": ".py",
   "mimetype": "text/x-python",
   "name": "python",
   "nbconvert_exporter": "python",
   "pygments_lexer": "ipython3",
   "version": "3.8.5"
  },
  "toc": {
   "base_numbering": 1,
   "nav_menu": {},
   "number_sections": true,
   "sideBar": true,
   "skip_h1_title": false,
   "title_cell": "Table of Contents",
   "title_sidebar": "Contents",
   "toc_cell": false,
   "toc_position": {},
   "toc_section_display": true,
   "toc_window_display": true
  },
  "varInspector": {
   "cols": {
    "lenName": 16,
    "lenType": 16,
    "lenVar": 40
   },
   "kernels_config": {
    "python": {
     "delete_cmd_postfix": "",
     "delete_cmd_prefix": "del ",
     "library": "var_list.py",
     "varRefreshCmd": "print(var_dic_list())"
    },
    "r": {
     "delete_cmd_postfix": ") ",
     "delete_cmd_prefix": "rm(",
     "library": "var_list.r",
     "varRefreshCmd": "cat(var_dic_list()) "
    }
   },
   "types_to_exclude": [
    "module",
    "function",
    "builtin_function_or_method",
    "instance",
    "_Feature"
   ],
   "window_display": false
  }
 },
 "nbformat": 4,
 "nbformat_minor": 2
}
